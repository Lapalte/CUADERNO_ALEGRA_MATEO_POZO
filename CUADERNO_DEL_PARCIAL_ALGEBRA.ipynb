{
  "nbformat": 4,
  "nbformat_minor": 0,
  "metadata": {
    "colab": {
      "provenance": [],
      "authorship_tag": "ABX9TyNucKg+37AbYJlJ80LMPSr3",
      "include_colab_link": true
    },
    "kernelspec": {
      "name": "python3",
      "display_name": "Python 3"
    },
    "language_info": {
      "name": "python"
    }
  },
  "cells": [
    {
      "cell_type": "markdown",
      "metadata": {
        "id": "view-in-github",
        "colab_type": "text"
      },
      "source": [
        "<a href=\"https://colab.research.google.com/github/Lapalte/CUADERNO_ALEGRA_MATEO_POZO/blob/main/CUADERNO_DEL_PARCIAL_ALGEBRA.ipynb\" target=\"_parent\"><img src=\"https://colab.research.google.com/assets/colab-badge.svg\" alt=\"Open In Colab\"/></a>"
      ]
    },
    {
      "cell_type": "markdown",
      "source": [
        "# MATRICES\n",
        "***MATRICES ESPECIALES***\n",
        "\n",
        "- ***MATRIZ NULA*** \n",
        "\n",
        "Una matriz cuyos elementos son todos ceros\n",
        "\n",
        "*A mxn = 0*\n",
        "\n",
        "***EJEMPLO:***\n",
        "\n",
        "```python\n",
        "import numpy as np\n",
        "\n",
        "# Definir las dimensiones de la matriz\n",
        "filas = 3\n",
        "columnas = 3\n",
        "\n",
        "# Crear la matriz nula\n",
        "matriz_nula = np.zeros((filas, columnas))\n",
        "\n",
        "print(matriz_nula)\n",
        "```"
      ],
      "metadata": {
        "id": "ggmGSFcYAOdI"
      }
    },
    {
      "cell_type": "code",
      "source": [
        "import numpy as np\n",
        "\n",
        "# Definir las dimensiones de la matriz\n",
        "filas = 3\n",
        "columnas = 3\n",
        "\n",
        "# Crear la matriz nula\n",
        "matriz_nula = np.zeros((filas, columnas))\n",
        "\n",
        "print(matriz_nula)"
      ],
      "metadata": {
        "colab": {
          "base_uri": "https://localhost:8080/"
        },
        "id": "nynpml1mBACI",
        "outputId": "757a0554-cce4-4026-8f4a-98b22f87c649"
      },
      "execution_count": null,
      "outputs": [
        {
          "output_type": "stream",
          "name": "stdout",
          "text": [
            "[[0. 0. 0.]\n",
            " [0. 0. 0.]\n",
            " [0. 0. 0.]]\n"
          ]
        }
      ]
    },
    {
      "cell_type": "markdown",
      "source": [
        "- **MATRIZ IDENTIDAD** \n",
        "\n",
        "Una matriz identidad o unidad de orden n es una matriz cuadrada donde todos sus elementos son ceros (0) menos los elementos de la diagonal principal que son unos (1). \n",
        "\n",
        "**¿Por qué se llama matriz identidad?**\n",
        "\n",
        "La matriz identidad se llama así porque representa a la aplicación identidad que va de un espacio vectorial de dimensión finita a sí mismo.\n",
        "\n",
        "***EJEMPLO:***\n",
        "\n",
        "```python\n",
        "import numpy as np\n",
        "\n",
        "# Definir el tamaño de la matriz identidad\n",
        "n = 3\n",
        "\n",
        "# Crear la matriz identidad\n",
        "matriz_identidad = np.eye(n)\n",
        "\n",
        "print(matriz_identidad)\n",
        "```"
      ],
      "metadata": {
        "id": "Dxmzv_WOBKpq"
      }
    },
    {
      "cell_type": "code",
      "source": [
        "import numpy as np\n",
        "\n",
        "# Definir el tamaño de la matriz identidad\n",
        "n = 3\n",
        "\n",
        "# Crear la matriz identidad\n",
        "matriz_identidad = np.eye(n)\n",
        "\n",
        "print(matriz_identidad)"
      ],
      "metadata": {
        "colab": {
          "base_uri": "https://localhost:8080/"
        },
        "id": "OduXx0QQCNRp",
        "outputId": "6a533a7b-f02a-469e-b60c-be3b210a98d8"
      },
      "execution_count": null,
      "outputs": [
        {
          "output_type": "stream",
          "name": "stdout",
          "text": [
            "[[1. 0. 0.]\n",
            " [0. 1. 0.]\n",
            " [0. 0. 1.]]\n"
          ]
        }
      ]
    },
    {
      "cell_type": "markdown",
      "source": [
        "- **DIAGONAL**\n",
        "\n",
        "Una matriz cuadrada A ∈ Mn(F) se denomina diagonal si todas sus componentes fuera de la diagonal principal son iguales a cero: ∀i, j ∈ {1,...,n} ( i = j ) =⇒ ( Ai,j = 0 ) .\n",
        "\n",
        "Una matriz A=(aij) A = ( a i j ) es diagonal cuando los elementos que no están en la diagonal son 0. Es decir, aij=0 a i j = 0 si i≠j i ≠ j . Por ejemplo, La matriz identidad es una matriz diagonal.\n",
        "\n",
        "***EJEMPLO:*** \n",
        "```python\n",
        "import numpy as np\n",
        "\n",
        "# Definir los elementos de la diagonal\n",
        "diagonal_elements = [1, 2, 3, 4]\n",
        "\n",
        "# Crear la matriz diagonal\n",
        "matriz_diagonal = np.diag(diagonal_elements)\n",
        "\n",
        "print(matriz_diagonal)\n",
        "```"
      ],
      "metadata": {
        "id": "F4QtdF5NFBat"
      }
    },
    {
      "cell_type": "code",
      "source": [
        "import numpy as np\n",
        "\n",
        "# Definir los elementos de la diagonal\n",
        "diagonal_elements = [1, 2, 3, 4]\n",
        "\n",
        "# Crear la matriz diagonal\n",
        "matriz_diagonal = np.diag(diagonal_elements)\n",
        "\n",
        "print(matriz_diagonal)"
      ],
      "metadata": {
        "colab": {
          "base_uri": "https://localhost:8080/"
        },
        "id": "JmolNhkZFske",
        "outputId": "20bf07c4-dd4a-4d43-ee3a-1f00399240a5"
      },
      "execution_count": null,
      "outputs": [
        {
          "output_type": "stream",
          "name": "stdout",
          "text": [
            "[[1 0 0 0]\n",
            " [0 2 0 0]\n",
            " [0 0 3 0]\n",
            " [0 0 0 4]]\n"
          ]
        }
      ]
    },
    {
      "cell_type": "markdown",
      "source": [
        "- **TRIANGULO SUPERIOR**\n",
        "\n",
        "La matriz triangular superior es una matriz cuadrada de orden n que tiene un triángulo de ceros (0) por debajo de la diagonal principal.\n",
        "\n",
        "***EJEMPLO:***\n",
        "```python\n",
        "import numpy as np\n",
        "\n",
        "# Definir los elementos de la matriz triangular\n",
        "elementos = [[1, 2, 3],\n",
        "             [0, 4, 5],\n",
        "             [0, 0, 6]]\n",
        "\n",
        "# Crear la matriz triangular\n",
        "matriz_triangular = np.array(elementos)\n",
        "\n",
        "print(matriz_triangular)\n",
        "\n",
        "```"
      ],
      "metadata": {
        "id": "eSV_uBamJcck"
      }
    },
    {
      "cell_type": "code",
      "source": [
        "import numpy as np\n",
        "\n",
        "# Definir los elementos de la matriz triangular\n",
        "elementos = [[1, 2, 3],\n",
        "             [0, 4, 5],\n",
        "             [0, 0, 6]]\n",
        "\n",
        "# Crear la matriz triangular\n",
        "matriz_triangular = np.array(elementos)\n",
        "\n",
        "print(matriz_triangular)\n"
      ],
      "metadata": {
        "colab": {
          "base_uri": "https://localhost:8080/"
        },
        "id": "RDllSRQsJ9or",
        "outputId": "5e2770c2-feb4-4dd9-b099-57a0616ae2df"
      },
      "execution_count": null,
      "outputs": [
        {
          "output_type": "stream",
          "name": "stdout",
          "text": [
            "[[1 2 3]\n",
            " [0 4 5]\n",
            " [0 0 6]]\n"
          ]
        }
      ]
    },
    {
      "cell_type": "markdown",
      "source": [
        "- **TRIANGULO INFERIOR** \n",
        "\n",
        "La matriz triangular inferior es una matriz cuadrada de orden n que tiene un \n",
        "triángulo de ceros (0) por encima de la diagonal principal.\n",
        "\n",
        "```python\n",
        "import numpy as np\n",
        "\n",
        "# Definir los elementos de la matriz triangular inferior\n",
        "elementos = [[1, 0, 0],\n",
        "             [2, 3, 0],\n",
        "             [4, 5, 6]]\n",
        "\n",
        "# Crear la matriz triangular inferior\n",
        "matriz_triangular_inferior = np.array(elementos)\n",
        "\n",
        "print(matriz_triangular_inferior)\n",
        "\n",
        "```\n"
      ],
      "metadata": {
        "id": "7R4tPEbVKFpy"
      }
    },
    {
      "cell_type": "code",
      "source": [
        "import numpy as np\n",
        "\n",
        "# Definir los elementos de la matriz triangular inferior\n",
        "elementos = [[1, 0, 0],\n",
        "             [2, 3, 0],\n",
        "             [4, 5, 6]]\n",
        "\n",
        "# Crear la matriz triangular inferior\n",
        "matriz_triangular_inferior = np.array(elementos)\n",
        "\n",
        "print(matriz_triangular_inferior)\n"
      ],
      "metadata": {
        "colab": {
          "base_uri": "https://localhost:8080/"
        },
        "id": "L2SDzYPzKiKu",
        "outputId": "99932a4f-31fb-460c-9a69-d1047dab271b"
      },
      "execution_count": null,
      "outputs": [
        {
          "output_type": "stream",
          "name": "stdout",
          "text": [
            "[[1 0 0]\n",
            " [2 3 0]\n",
            " [4 5 6]]\n"
          ]
        }
      ]
    },
    {
      "cell_type": "markdown",
      "source": [
        "- **TRIANGULO SIMETRICO**\n",
        "\n",
        "Una matriz simétrica es una matriz de orden n con el mismo número de filas y columnas donde su matriz traspuesta es igual a la matriz original. \n",
        "\n",
        "***EJEMPLO:***\n",
        "```python\n",
        "import numpy as np\n",
        "\n",
        "# Definir los elementos de la matriz simétrica\n",
        "elementos = [[1, 2, 3],\n",
        "             [2, 4, 5],\n",
        "             [3, 5, 6]]\n",
        "\n",
        "# Crear la matriz simétrica\n",
        "matriz_simetrica = np.array(elementos)\n",
        "\n",
        "# Verificar si la matriz es simétrica\n",
        "es_simetrica = np.allclose(matriz_simetrica, matriz_simetrica.T)\n",
        "\n",
        "if es_simetrica:\n",
        "    print(\"La matriz es simétrica\")\n",
        "else:\n",
        "    print(\"La matriz no es simétrica\")\n",
        "\n",
        "print(matriz_simetrica)\n",
        "\n",
        "```\n",
        "\n"
      ],
      "metadata": {
        "id": "52zRNnl1LLGr"
      }
    },
    {
      "cell_type": "code",
      "source": [
        "import numpy as np\n",
        "\n",
        "# Definir los elementos de la matriz simétrica\n",
        "elementos = [[1, 2, 3],\n",
        "             [2, 4, 5],\n",
        "             [3, 5, 6]]\n",
        "\n",
        "# Crear la matriz simétrica\n",
        "matriz_simetrica = np.array(elementos)\n",
        "\n",
        "# Verificar si la matriz es simétrica\n",
        "es_simetrica = np.allclose(matriz_simetrica, matriz_simetrica.T)\n",
        "\n",
        "if es_simetrica:\n",
        "    print(\"La matriz es simétrica\")\n",
        "else:\n",
        "    print(\"La matriz no es simétrica\")\n",
        "\n",
        "print(matriz_simetrica)\n"
      ],
      "metadata": {
        "colab": {
          "base_uri": "https://localhost:8080/"
        },
        "id": "gRRdkMqbLne6",
        "outputId": "5175d024-9002-434b-8ebd-a10c1cd8221b"
      },
      "execution_count": null,
      "outputs": [
        {
          "output_type": "stream",
          "name": "stdout",
          "text": [
            "La matriz es simétrica\n",
            "[[1 2 3]\n",
            " [2 4 5]\n",
            " [3 5 6]]\n"
          ]
        }
      ]
    },
    {
      "cell_type": "markdown",
      "source": [
        "- **ANTISIMETRICO** \n",
        "\n",
        "Una matriz antisimétrica es una matriz cuadrada donde los elementos fuera de la diagonal principal son simétricamente iguales pero los que están por debajo de la diagonal principal llevan un signo negativo\n",
        "\n",
        "***EJEMPLO:***\n",
        "\n",
        "```python\n",
        "import numpy as np\n",
        "\n",
        "# Definir los elementos de la matriz antisimétrica\n",
        "elementos = [[0, 1, -2],\n",
        "             [-1, 0, 3],\n",
        "             [2, -3, 0]]\n",
        "\n",
        "# Crear la matriz antisimétrica\n",
        "matriz_antisimetrica = np.array(elementos)\n",
        "\n",
        "# Verificar si la matriz es antisimétrica\n",
        "es_antisimetrica = np.allclose(matriz_antisimetrica, -matriz_antisimetrica.T)\n",
        "\n",
        "print(matriz_antisimetrica)\n",
        "print(\"Es antisimétrica:\", es_antisimetrica)\n",
        "\n",
        "```"
      ],
      "metadata": {
        "id": "db09vjolL0fw"
      }
    },
    {
      "cell_type": "code",
      "source": [
        "\n",
        "import numpy as np\n",
        "\n",
        "# Definir los elementos de la matriz antisimétrica\n",
        "elementos = [[0, 1, -2],\n",
        "             [-1, 0, 3],\n",
        "             [2, -3, 0]]\n",
        "\n",
        "# Crear la matriz antisimétrica\n",
        "matriz_antisimetrica = np.array(elementos)\n",
        "\n",
        "# Verificar si la matriz es antisimétrica\n",
        "es_antisimetrica = np.allclose(matriz_antisimetrica, -matriz_antisimetrica.T)\n",
        "\n",
        "print(matriz_antisimetrica)\n",
        "print(\"Es antisimétrica:\", es_antisimetrica)\n"
      ],
      "metadata": {
        "colab": {
          "base_uri": "https://localhost:8080/"
        },
        "id": "R2XrYVZDMHmo",
        "outputId": "85ff21d4-4e1a-4550-af10-47823f9ac695"
      },
      "execution_count": null,
      "outputs": [
        {
          "output_type": "stream",
          "name": "stdout",
          "text": [
            "[[ 0  1 -2]\n",
            " [-1  0  3]\n",
            " [ 2 -3  0]]\n",
            "Es antisimétrica: True\n"
          ]
        }
      ]
    },
    {
      "cell_type": "markdown",
      "source": [
        "***EJERCICIOS DE MATRICES:***\n",
        "\n",
        "**GENERAR UNA MATRIZ TRIANGULAR SUPERIOR**\n",
        "```python\n",
        "import numpy as np\n",
        "\n",
        "# Generar dos matrices diagonales aleatorias\n",
        "diagonal_a = np.diag(np.random.randint(1, 10, size=5))\n",
        "diagonal_b = np.diag(np.random.randint(1, 10, size=5))\n",
        "\n",
        "# Calcular el producto de las matrices diagonales\n",
        "producto = np.dot(diagonal_a, diagonal_b)\n",
        "\n",
        "print(\"Matriz A:\")\n",
        "print(diagonal_a)\n",
        "print(\"Matriz B:\")\n",
        "print(diagonal_b)\n",
        "print(\"Producto de las matrices:\")\n",
        "print(producto)\n",
        "\n",
        "# Verificar si el producto es una matriz triangular superior\n",
        "es_triangular_superior = np.allclose(np.triu(producto), producto)\n",
        "\n",
        "print(\"Es una matriz triangular superior:\", es_triangular_superior)\n",
        "\n",
        "```"
      ],
      "metadata": {
        "id": "IbVrWIUVNsBZ"
      }
    },
    {
      "cell_type": "code",
      "source": [
        "import numpy as np\n",
        "\n",
        "# Generar dos matrices diagonales aleatorias\n",
        "diagonal_a = np.diag(np.random.randint(1, 10, size=5))\n",
        "diagonal_b = np.diag(np.random.randint(1, 10, size=5))\n",
        "\n",
        "# Calcular el producto de las matrices diagonales\n",
        "producto = np.dot(diagonal_a, diagonal_b)\n",
        "\n",
        "print(\"Matriz A:\")\n",
        "print(diagonal_a)\n",
        "print(\"Matriz B:\")\n",
        "print(diagonal_b)\n",
        "print(\"Producto de las matrices:\")\n",
        "print(producto)\n",
        "\n",
        "# Verificar si el producto es una matriz triangular superior\n",
        "es_triangular_superior = np.allclose(np.triu(producto), producto)\n",
        "\n",
        "print(\"Es una matriz triangular superior:\", es_triangular_superior)\n"
      ],
      "metadata": {
        "colab": {
          "base_uri": "https://localhost:8080/"
        },
        "id": "RNeApjFRNuq1",
        "outputId": "f55345c0-2114-42c5-83a7-6889e0a216d9"
      },
      "execution_count": null,
      "outputs": [
        {
          "output_type": "stream",
          "name": "stdout",
          "text": [
            "Matriz A:\n",
            "[[1 0 0 0 0]\n",
            " [0 9 0 0 0]\n",
            " [0 0 9 0 0]\n",
            " [0 0 0 6 0]\n",
            " [0 0 0 0 4]]\n",
            "Matriz B:\n",
            "[[1 0 0 0 0]\n",
            " [0 3 0 0 0]\n",
            " [0 0 4 0 0]\n",
            " [0 0 0 4 0]\n",
            " [0 0 0 0 4]]\n",
            "Producto de las matrices:\n",
            "[[ 1  0  0  0  0]\n",
            " [ 0 27  0  0  0]\n",
            " [ 0  0 36  0  0]\n",
            " [ 0  0  0 24  0]\n",
            " [ 0  0  0  0 16]]\n",
            "Es una matriz triangular superior: True\n"
          ]
        }
      ]
    },
    {
      "cell_type": "markdown",
      "source": [
        "**VERIFICAR SI LA MATRIZ ES NULA O NO:**\n",
        "```python\n",
        "import numpy as np\n",
        "\n",
        "# Definir una matriz aleatoria\n",
        "matriz = np.random.randint(-5, 5, size=(3, 3))\n",
        "\n",
        "# Verificar si la matriz es nula\n",
        "es_nula = np.all(matriz == 0)\n",
        "\n",
        "print(\"Matriz:\")\n",
        "print(matriz)\n",
        "print(\"Es una matriz nula:\", es_nula)\n",
        "\n",
        "```"
      ],
      "metadata": {
        "id": "Diy5vQ6OOkbD"
      }
    },
    {
      "cell_type": "code",
      "source": [
        "import numpy as np\n",
        "\n",
        "# Definir una matriz aleatoria\n",
        "matriz = np.random.randint(-5, 5, size=(3, 3))\n",
        "\n",
        "# Verificar si la matriz es nula\n",
        "es_nula = np.all(matriz == 0)\n",
        "\n",
        "print(\"Matriz:\")\n",
        "print(matriz)\n",
        "print(\"Es una matriz nula:\", es_nula)\n"
      ],
      "metadata": {
        "colab": {
          "base_uri": "https://localhost:8080/"
        },
        "id": "kNpPKVbdOoI5",
        "outputId": "7953a66c-ab53-4587-fb98-662bfd1a55ff"
      },
      "execution_count": null,
      "outputs": [
        {
          "output_type": "stream",
          "name": "stdout",
          "text": [
            "Matriz:\n",
            "[[ 0 -1  0]\n",
            " [-1  3 -5]\n",
            " [-3  3  1]]\n",
            "Es una matriz nula: False\n"
          ]
        }
      ]
    },
    {
      "cell_type": "markdown",
      "source": [
        "**VERIFICAR SI LA MATRIZ ES IDENTIDAD O NO:**\n",
        "```python\n",
        "import numpy as np\n",
        "\n",
        "# Definir el tamaño de la matriz cuadrada\n",
        "n = 4\n",
        "\n",
        "# Generar una matriz cuadrada aleatoria\n",
        "matriz = np.random.randint(0, 2, size=(n, n))\n",
        "\n",
        "# Verificar si la matriz es una matriz identidad\n",
        "es_identidad = np.array_equal(matriz, np.eye(n))\n",
        "\n",
        "print(\"Matriz:\")\n",
        "print(matriz)\n",
        "print(\"Es una matriz identidad:\", es_identidad)\n",
        "\n",
        "```"
      ],
      "metadata": {
        "id": "THoAMiNPPU4g"
      }
    },
    {
      "cell_type": "code",
      "source": [
        "import numpy as np\n",
        "\n",
        "# Definir el tamaño de la matriz cuadrada\n",
        "n = 4\n",
        "\n",
        "# Generar una matriz cuadrada aleatoria\n",
        "matriz = np.random.randint(0, 2, size=(n, n))\n",
        "\n",
        "# Verificar si la matriz es una matriz identidad\n",
        "es_identidad = np.array_equal(matriz, np.eye(n))\n",
        "\n",
        "print(\"Matriz:\")\n",
        "print(matriz)\n",
        "print(\"Es una matriz identidad:\", es_identidad)\n"
      ],
      "metadata": {
        "colab": {
          "base_uri": "https://localhost:8080/"
        },
        "id": "YNfM63DcPaXd",
        "outputId": "33e576ee-0ea9-4b15-e927-2ad024ceaab4"
      },
      "execution_count": null,
      "outputs": [
        {
          "output_type": "stream",
          "name": "stdout",
          "text": [
            "Matriz:\n",
            "[[0 1 0 1]\n",
            " [1 0 0 0]\n",
            " [1 1 1 0]\n",
            " [1 0 0 0]]\n",
            "Es una matriz identidad: False\n"
          ]
        }
      ]
    },
    {
      "cell_type": "markdown",
      "source": [
        "**VERIFICAR SI LA MATRIZ ES DIAGONAL O NO:**\n",
        "```python\n",
        "import numpy as np\n",
        "\n",
        "# Definir el tamaño de la matriz cuadrada\n",
        "n = 4\n",
        "\n",
        "# Generar una matriz cuadrada aleatoria\n",
        "matriz = np.random.randint(1, 10, size=(n, n))\n",
        "\n",
        "# Verificar si la matriz es una matriz diagonal\n",
        "es_diagonal = np.array_equal(matriz, np.diag(np.diagonal(matriz)))\n",
        "\n",
        "print(\"Matriz:\")\n",
        "print(matriz)\n",
        "print(\"Es una matriz diagonal:\", es_diagonal)\n",
        "\n",
        "```"
      ],
      "metadata": {
        "id": "qOTBvWuKPpXH"
      }
    },
    {
      "cell_type": "code",
      "source": [
        "import numpy as np\n",
        "\n",
        "# Definir el tamaño de la matriz cuadrada\n",
        "n = 4\n",
        "\n",
        "# Generar una matriz cuadrada aleatoria\n",
        "matriz = np.random.randint(1, 10, size=(n, n))\n",
        "\n",
        "# Verificar si la matriz es una matriz diagonal\n",
        "es_diagonal = np.array_equal(matriz, np.diag(np.diagonal(matriz)))\n",
        "\n",
        "print(\"Matriz:\")\n",
        "print(matriz)\n",
        "print(\"Es una matriz diagonal:\", es_diagonal)\n"
      ],
      "metadata": {
        "id": "y-XqlP87P27Q",
        "outputId": "2c78e50b-b400-4d99-e722-119343f0c4ae",
        "colab": {
          "base_uri": "https://localhost:8080/"
        }
      },
      "execution_count": null,
      "outputs": [
        {
          "output_type": "stream",
          "name": "stdout",
          "text": [
            "Matriz:\n",
            "[[4 1 8 3]\n",
            " [8 5 3 1]\n",
            " [2 5 6 2]\n",
            " [4 3 4 3]]\n",
            "Es una matriz diagonal: False\n"
          ]
        }
      ]
    },
    {
      "cell_type": "markdown",
      "source": [
        "## **POTENCIA DE MATRICES**\n",
        "\n",
        "La potencia de una matriz se obtiene mediante la multiplicación de la matriz por sí misma 'n' veces. La matriz debe ser cuadrada para poder elevarla a una potencia.\n",
        "\n",
        "Sólo podemos calcular potencias de matrices cuadradas. Por ejemplo, la potencia A2 es el producto de matrices A·A, lo que exige que A tiene que ser cuadrada.\n",
        "\n",
        "**EJEMPLO DE POTENCIAS DE MATRICES:**\n",
        "```python\n",
        "import numpy as np\n",
        "\n",
        "# Definir una matriz de ejemplo\n",
        "matriz = np.array([[1, 2],\n",
        "                   [3, 4]])\n",
        "\n",
        "# Calcular la potencia de la matriz\n",
        "potencia_2 = np.linalg.matrix_power(matriz, 2)\n",
        "\n",
        "# Imprimir los resultados\n",
        "print(\"Matriz elevada al cuadrado:\")\n",
        "print(potencia_2)\n",
        "\n",
        "\n",
        "```"
      ],
      "metadata": {
        "id": "UFIkRRy0N9o-"
      }
    },
    {
      "cell_type": "code",
      "source": [
        "import numpy as np\n",
        "\n",
        "# Definir una matriz de ejemplo\n",
        "matriz = np.array([[1, 2],\n",
        "                   [3, 4]])\n",
        "\n",
        "# Calcular la potencia de la matriz\n",
        "potencia_2 = np.linalg.matrix_power(matriz, 2)\n",
        "\n",
        "# Imprimir los resultados\n",
        "print(\"Matriz elevada al cuadrado:\")\n",
        "print(potencia_2)\n",
        "\n"
      ],
      "metadata": {
        "colab": {
          "base_uri": "https://localhost:8080/"
        },
        "id": "DZ9s1F4XOizi",
        "outputId": "c8a83ae8-472a-45d9-819e-e2ad101a1a14"
      },
      "execution_count": null,
      "outputs": [
        {
          "output_type": "stream",
          "name": "stdout",
          "text": [
            "Matriz elevada al cuadrado:\n",
            "[[ 7 10]\n",
            " [15 22]]\n"
          ]
        }
      ]
    },
    {
      "cell_type": "markdown",
      "source": [
        "En este ejemplo, hemos utilizado la función*** np.linalg.matrix_power()*** de la biblioteca NumPy para calcular las potencias de la matriz. Hemos definido una matriz de 2x2 con valores de ejemplo y luego hemos calculado la matriz elevada al cuadrado y al cubo."
      ],
      "metadata": {
        "id": "g5m-JR5xOvXb"
      }
    },
    {
      "cell_type": "markdown",
      "source": [
        "# **DETERMINANTES**\n",
        "\n",
        "Se define el determinante como una forma multilineal alternada sobre un espacio vectorial. Esta definición indica una serie de propiedades matemáticas y generaliza el concepto de determinante de una matriz haciéndolo aplicable en numerosos campos.\n",
        "\n",
        "¿Cómo se resuelven los determinantes?\n",
        "\n",
        "El determinante de una matriz cuadrada (matriz con el mismo número de filas que de columna) se obtiene de restar la multiplicación de los elementos de la diagonal principal de la matriz y la multiplicación de los elementos de la diagonal secundaria de la misma matriz.\n",
        "\n",
        "**EJEMPLO DE MATRIZ DETERMINANTE:** \n",
        "```python\n",
        "import numpy as np\n",
        "\n",
        "# Definir una matriz de ejemplo\n",
        "matriz = np.array([[1, 2, 3],\n",
        "                   [4, 5, 6],\n",
        "                   [7, 8, 9]])\n",
        "\n",
        "# Calcular el determinante\n",
        "determinante = np.linalg.det(matriz)\n",
        "\n",
        "# Imprimir el resultado\n",
        "print(\"El determinante de la matriz es:\", determinante)\n",
        "\n",
        "```"
      ],
      "metadata": {
        "id": "TYq6CKMhMQdd"
      }
    },
    {
      "cell_type": "code",
      "source": [
        "import numpy as np\n",
        "\n",
        "# Definir una matriz de ejemplo\n",
        "matriz = np.array([[1, 2, 3],\n",
        "                   [4, 5, 6],\n",
        "                   [7, 8, 9]])\n",
        "\n",
        "# Calcular el determinante\n",
        "determinante = np.linalg.det(matriz)\n",
        "\n",
        "# Imprimir el resultado\n",
        "print(\"El determinante de la matriz es:\", determinante)\n"
      ],
      "metadata": {
        "colab": {
          "base_uri": "https://localhost:8080/"
        },
        "id": "D8bK-jf8NOcf",
        "outputId": "bb5bcf9e-490e-4d6e-d1fd-bb485224b56c"
      },
      "execution_count": null,
      "outputs": [
        {
          "output_type": "stream",
          "name": "stdout",
          "text": [
            "El determinante de la matriz es: 0.0\n"
          ]
        }
      ]
    },
    {
      "cell_type": "markdown",
      "source": [
        "En este ejemplo, hemos utilizado la biblioteca NumPy para realizar el cálculo del determinante. La función ***np.linalg.det()*** calcula el determinante de una matriz dada. En este caso, hemos definido una matriz de 3x3 con valores de ejemplo y hemos calculado su determinante.\n",
        "\n"
      ],
      "metadata": {
        "id": "todYYqPfNeKC"
      }
    },
    {
      "cell_type": "markdown",
      "source": [
        "##**PARTICION DE MATRICES**\n",
        "\n",
        "Es una matriz interpretada, caracterizada por estar dividida en secciones llamadas bloques o submatrices.\n",
        "\n",
        "**EJEMPLO DE PARTICION DE MATRICES:** \n",
        "```python\n",
        "import numpy as np\n",
        "\n",
        "# Definir una matriz de ejemplo\n",
        "matriz = np.array([[1, 2, 3, 4],\n",
        "                   [5, 6, 7, 8],\n",
        "                   [9, 10, 11, 12]])\n",
        "\n",
        "# Particionar la matriz en submatrices\n",
        "submatriz1 = matriz[:, :2]  # Primeras dos columnas\n",
        "submatriz2 = matriz[:, 2:]  # Últimas dos columnas\n",
        "\n",
        "# Imprimir las submatrices\n",
        "print(\"Submatriz 1:\")\n",
        "print(submatriz1)\n",
        "print(\"\\nSubmatriz 2:\")\n",
        "print(submatriz2)\n",
        "\n",
        "```"
      ],
      "metadata": {
        "id": "uoNcTTXGPlgJ"
      }
    },
    {
      "cell_type": "code",
      "source": [
        "import numpy as np\n",
        "\n",
        "# Definir una matriz de ejemplo\n",
        "matriz = np.array([[1, 2, 3, 4],\n",
        "                   [5, 6, 7, 8],\n",
        "                   [9, 10, 11, 12]])\n",
        "\n",
        "# Particionar la matriz en submatrices\n",
        "submatriz1 = matriz[:, :2]  # Primeras dos columnas\n",
        "submatriz2 = matriz[:, 2:]  # Últimas dos columnas\n",
        "\n",
        "# Imprimir las submatrices\n",
        "print(\"Submatriz 1:\")\n",
        "print(submatriz1)\n",
        "print(\"\\nSubmatriz 2:\")\n",
        "print(submatriz2)\n"
      ],
      "metadata": {
        "colab": {
          "base_uri": "https://localhost:8080/"
        },
        "id": "wG0XdPsBRo_i",
        "outputId": "5b96b590-88aa-4b28-c60e-609a9289ea0e"
      },
      "execution_count": null,
      "outputs": [
        {
          "output_type": "stream",
          "name": "stdout",
          "text": [
            "Submatriz 1:\n",
            "[[ 1  2]\n",
            " [ 5  6]\n",
            " [ 9 10]]\n",
            "\n",
            "Submatriz 2:\n",
            "[[ 3  4]\n",
            " [ 7  8]\n",
            " [11 12]]\n"
          ]
        }
      ]
    },
    {
      "cell_type": "markdown",
      "source": [
        "En este ejemplo, hemos utilizado la indexación de NumPy para particionar la matriz. La matriz original es de tamaño 3x4, y hemos particionado la matriz en dos submatrices: la submatriz 1 contiene las primeras dos columnas y la submatriz 2 contiene las últimas dos columnas."
      ],
      "metadata": {
        "id": "PxmsVoeNR7Ss"
      }
    },
    {
      "cell_type": "markdown",
      "source": [
        "### **EJERCICIO DE PARTICION DE MATRICES Y DE DETERMINATES** \n"
      ],
      "metadata": {
        "id": "Kp_OnjCOWnZL"
      }
    },
    {
      "cell_type": "code",
      "source": [
        "import numpy as np\n",
        "\n",
        "# Definir una matriz de ejemplo\n",
        "matriz = np.array([[1, 2, 3, 4],\n",
        "                   [5, 6, 7, 8],\n",
        "                   [9, 10, 11, 12]])\n",
        "\n",
        "# Particionar la matriz en submatrices\n",
        "submatriz1 = matriz[:, :3]  # Primeras tres columnas\n",
        "submatriz2 = matriz[:, 3:]  # Última columna\n",
        "\n",
        "# Calcular el determinante de la submatriz 1\n",
        "determinante_submatriz1 = np.linalg.det(submatriz1)\n",
        "\n",
        "# Imprimir la submatriz 1 y su determinante\n",
        "print(\"Submatriz 1:\")\n",
        "print(submatriz1)\n",
        "print(\"\\nDeterminante de la submatriz 1:\", determinante_submatriz1)\n",
        "\n",
        "# Imprimir la submatriz 2\n",
        "print(\"\\nSubmatriz 2:\")\n",
        "print(submatriz2)\n"
      ],
      "metadata": {
        "colab": {
          "base_uri": "https://localhost:8080/"
        },
        "id": "it37rt4JWsmL",
        "outputId": "2237e20d-470a-44f8-e0c7-4e7a8fa4814b"
      },
      "execution_count": null,
      "outputs": [
        {
          "output_type": "stream",
          "name": "stdout",
          "text": [
            "Submatriz 1:\n",
            "[[ 1  2  3]\n",
            " [ 5  6  7]\n",
            " [ 9 10 11]]\n",
            "\n",
            "Determinante de la submatriz 1: -7.105427357600985e-15\n",
            "\n",
            "Submatriz 2:\n",
            "[[ 4]\n",
            " [ 8]\n",
            " [12]]\n"
          ]
        }
      ]
    },
    {
      "cell_type": "markdown",
      "source": [
        "En este ejercicio, hemos utilizado la partición de matrices y el cálculo de determinantes. La matriz original es de tamaño 3x4, y hemos particionado la matriz en dos submatrices: la submatriz 1 contiene las primeras tres columnas y la submatriz 2 contiene la última columna. Luego, calculamos el determinante de la submatriz 1 utilizando la función ***np.linalg.det()*** de NumPy y lo imprimimos"
      ],
      "metadata": {
        "id": "PPNIzK7eWxZz"
      }
    },
    {
      "cell_type": "markdown",
      "source": [
        "#**SISTEMA DE ECUACIONES DE PRIMER GRADO** \n",
        "\n",
        "Una ecuación de primer grado es una ecuación cuya solución viene dada por Primero, el producto de sus variables (en este caso, x), y el valor medio de sus fórmulas integrales, como la matriz integral.\n",
        "\n",
        "REPRESENTACION DE ECUACION DE PRIMER GRADO:\n",
        "```python\n",
        "# Definir los coeficientes de la ecuación\n",
        "a = 2\n",
        "b = 5\n",
        "\n",
        "# Resolver la ecuación de primer grado\n",
        "x = -b / a\n",
        "\n",
        "# Imprimir el resultado\n",
        "print(\"La solución de la ecuación\", a, \"x +\", b, \"= 0 es:\")\n",
        "print(\"x =\", x)\n",
        "\n",
        "```"
      ],
      "metadata": {
        "id": "ebZcM2sdXDe9"
      }
    },
    {
      "cell_type": "code",
      "source": [
        "# Definir los coeficientes de la ecuación\n",
        "a = 2\n",
        "b = 5\n",
        "\n",
        "# Resolver la ecuación de primer grado\n",
        "x = -b / a\n",
        "\n",
        "# Imprimir el resultado\n",
        "print(\"La solución de la ecuación\", a, \"x +\", b, \"= 0 es:\")\n",
        "print(\"x =\", x)\n"
      ],
      "metadata": {
        "colab": {
          "base_uri": "https://localhost:8080/"
        },
        "id": "UA2EB6OSXYZm",
        "outputId": "c0a3c55d-fb2f-4cf4-814c-01500e1f0919"
      },
      "execution_count": null,
      "outputs": [
        {
          "output_type": "stream",
          "name": "stdout",
          "text": [
            "La solución de la ecuación 2 x + 5 = 0 es:\n",
            "x = -2.5\n"
          ]
        }
      ]
    },
    {
      "cell_type": "markdown",
      "source": [
        "En este ejemplo, hemos definido los coeficientes de la ecuación de primer grado 2x + 5 = 0. Luego, hemos resuelto la ecuación dividiendo -b por a para encontrar el valor de x. Finalmente, imprimimos el valor de x, que es la solución de la ecuación."
      ],
      "metadata": {
        "id": "ROiTRIHyXd9W"
      }
    },
    {
      "cell_type": "markdown",
      "source": [
        "## **SISTEMA DE ECUACIONES EN MATRICES** \n",
        "\n",
        "Los sistemas de ecuaciones lineales se pueden escribir como una ecuación matricial, de forma que cualquier sistema lo escribiremos como AX=B, donde A es la matriz de coeficientes, X la matriz de incógnitas y B la matriz de términos independientes.\n",
        "\n",
        "**EJEMPLO E SISTEMAS DE ECUACIONES UTILIZANDO LAS MATRICES:**\n",
        "```python\n",
        "import numpy as np\n",
        "\n",
        "# Definir las matrices de coeficientes y términos independientes del sistema de ecuaciones\n",
        "coeficientes = np.array([[2, 3],\n",
        "                        [1, -2]])\n",
        "\n",
        "terminos_independientes = np.array([5, -1])\n",
        "\n",
        "# Resolver el sistema de ecuaciones\n",
        "solucion = np.linalg.solve(coeficientes, terminos_independientes)\n",
        "\n",
        "# Imprimir la solución\n",
        "print(\"La solución del sistema de ecuaciones es:\")\n",
        "print(\"x =\", solucion[0])\n",
        "print(\"y =\", solucion[1])\n",
        "\n",
        "```"
      ],
      "metadata": {
        "id": "dTqNOUguXrHy"
      }
    },
    {
      "cell_type": "code",
      "source": [
        "import numpy as np\n",
        "\n",
        "# Definir las matrices de coeficientes y términos independientes del sistema de ecuaciones\n",
        "coeficientes = np.array([[2, 3],\n",
        "                        [1, -2]])\n",
        "\n",
        "terminos_independientes = np.array([5, -1])\n",
        "\n",
        "# Resolver el sistema de ecuaciones\n",
        "solucion = np.linalg.solve(coeficientes, terminos_independientes)\n",
        "\n",
        "# Imprimir la solución\n",
        "print(\"La solución del sistema de ecuaciones es:\")\n",
        "print(\"x =\", solucion[0])\n",
        "print(\"y =\", solucion[1])\n"
      ],
      "metadata": {
        "colab": {
          "base_uri": "https://localhost:8080/"
        },
        "id": "X9tB2YyfYEC8",
        "outputId": "8fcecc47-d8a8-4155-d49f-0a363bc0021d"
      },
      "execution_count": null,
      "outputs": [
        {
          "output_type": "stream",
          "name": "stdout",
          "text": [
            "La solución del sistema de ecuaciones es:\n",
            "x = 1.0\n",
            "y = 1.0\n"
          ]
        }
      ]
    },
    {
      "cell_type": "markdown",
      "source": [
        "En este ejemplo, hemos definido las matrices de coeficientes y términos independientes de un sistema de ecuaciones lineales. La matriz de coeficientes representa los coeficientes de las incógnitas, mientras que la matriz terminos_independientes contiene los términos independientes de cada ecuación. Utilizamos la función ***np.linalg.solve()*** de NumPy para resolver el sistema de ecuaciones y obtener la solución."
      ],
      "metadata": {
        "id": "-KY8MXksYJSk"
      }
    },
    {
      "cell_type": "markdown",
      "source": [
        "##**METODO DE CRAMER**\n",
        "\n",
        "La regla de Cramer es un método que permite calcular la solución de un sistema con “n” ecuaciones y “n” incógnitas, siempre y cuando el determinante de la matriz asociada “A” sea diferente a cero. Esto se resume formalmente a continuación: Sea un sistema de ecuaciones lineales A x = y.\n",
        "\n",
        "Se aplica a sistemas que cumplan las dos condiciones siguientes: El número de ecuaciones es igual al número de incógnitas. El determinante de la matriz de los coeficientes es distinto de cero.\n",
        "\n",
        "nombre de sistema de Cramer cuando se cumplen las dos condiciones siguientes: El número de ecuaciones es igual al número de incógnitas. El determinante de la matriz de los coeficientes (matriz del sistema) es distinto de cero ( det ( A ) # 0 )\n",
        "\n",
        "EJEMPLO USANDO EL METODO DE CRAMER:\n",
        "\n",
        "```python\n",
        "import numpy as np\n",
        "\n",
        "# Definir la matriz de coeficientes del sistema de ecuaciones\n",
        "coeficientes = np.array([[2, 3],\n",
        "                        [1, -2]])\n",
        "\n",
        "# Definir la matriz de términos independientes del sistema de ecuaciones\n",
        "terminos_independientes = np.array([5, -1])\n",
        "\n",
        "# Calcular el determinante de la matriz de coeficientes\n",
        "determinante_coeficientes = np.linalg.det(coeficientes)\n",
        "\n",
        "# Calcular los determinantes de las matrices al reemplazar cada columna de coeficientes con los términos independientes\n",
        "determinante_x = np.linalg.det(np.column_stack((terminos_independientes, coeficientes[:, 1])))\n",
        "determinante_y = np.linalg.det(np.column_stack((coeficientes[:, 0], terminos_independientes)))\n",
        "\n",
        "# Calcular las soluciones utilizando el método de Cramer\n",
        "solucion_x = determinante_x / determinante_coeficientes\n",
        "solucion_y = determinante_y / determinante_coeficientes\n",
        "\n",
        "# Imprimir la solución\n",
        "print(\"La solución del sistema de ecuaciones es:\")\n",
        "print(\"x =\", solucion_x)\n",
        "print(\"y =\", solucion_y)\n",
        "\n",
        "```"
      ],
      "metadata": {
        "id": "pMb619uOao2c"
      }
    },
    {
      "cell_type": "code",
      "source": [
        "import numpy as np\n",
        "\n",
        "# Definir la matriz de coeficientes del sistema de ecuaciones\n",
        "coeficientes = np.array([[2, 3],\n",
        "                        [1, -2]])\n",
        "\n",
        "# Definir la matriz de términos independientes del sistema de ecuaciones\n",
        "terminos_independientes = np.array([5, -1])\n",
        "\n",
        "# Calcular el determinante de la matriz de coeficientes\n",
        "determinante_coeficientes = np.linalg.det(coeficientes)\n",
        "\n",
        "# Calcular los determinantes de las matrices al reemplazar cada columna de coeficientes con los términos independientes\n",
        "determinante_x = np.linalg.det(np.column_stack((terminos_independientes, coeficientes[:, 1])))\n",
        "determinante_y = np.linalg.det(np.column_stack((coeficientes[:, 0], terminos_independientes)))\n",
        "\n",
        "# Calcular las soluciones utilizando el método de Cramer\n",
        "solucion_x = determinante_x / determinante_coeficientes\n",
        "solucion_y = determinante_y / determinante_coeficientes\n",
        "\n",
        "# Imprimir la solución\n",
        "print(\"La solución del sistema de ecuaciones es:\")\n",
        "print(\"x =\", solucion_x)\n",
        "print(\"y =\", solucion_y)\n"
      ],
      "metadata": {
        "colab": {
          "base_uri": "https://localhost:8080/"
        },
        "id": "_q-R7tedbIyn",
        "outputId": "044c2158-688e-4f68-e478-6ead2d8c2a73"
      },
      "execution_count": null,
      "outputs": [
        {
          "output_type": "stream",
          "name": "stdout",
          "text": [
            "La solución del sistema de ecuaciones es:\n",
            "x = 0.9999999999999998\n",
            "y = 1.0\n"
          ]
        }
      ]
    },
    {
      "cell_type": "markdown",
      "source": [
        "En este ejemplo, hemos definido la matriz de coeficientes coeficientes y la matriz de términos independientes terminos_independientes de un sistema de ecuaciones lineales. Utilizamos la función ***np.linalg.det(***) de NumPy para calcular el determinante de la matriz de coeficientes y los determinantes al reemplazar cada columna de coeficientes con los términos independientes.\n",
        "\n",
        "Luego, utilizamos los determinantes obtenidos para calcular las soluciones del sistema de ecuaciones utilizando el método de Cramer. Las soluciones se almacenan en las variables ***solucion_x y solucion_y***."
      ],
      "metadata": {
        "id": "5lxiuIxubNM5"
      }
    },
    {
      "cell_type": "markdown",
      "source": [
        "##**FACTORIZACION \"LU\"**\n",
        "\n",
        "La factorización LU (Lower-Upper) es una técnica utilizada en álgebra lineal para descomponer una matriz en el producto de una matriz triangular inferior (L) y una matriz triangular superior (U). Esta descomposición puede ser útil para resolver sistemas de ecuaciones lineales y calcular determinantes.\n",
        "\n",
        "La factorización LU se puede expresar matemáticamente de la siguiente manera:\n",
        "\n",
        "A = LU\n",
        "\n",
        "Donde A es la matriz original, L es la matriz triangular inferior y U es la matriz triangular superior.\n",
        "\n",
        "El proceso de factorización LU implica descomponer la matriz A en una matriz triangular inferior L y una matriz triangular superior U utilizando eliminación gaussiana o métodos similares.\n",
        "\n",
        "La matriz triangular inferior L tiene 1 en su diagonal principal y los elementos no diagonales representan los multiplicadores utilizados durante la eliminación gaussiana. La matriz triangular superior U tiene ceros debajo de la diagonal principal y contiene los resultados de la eliminación gaussiana.\n",
        "###**LA IMPORTANCIA DE LA FACOTORIZACION LU**\n",
        "\n",
        "La factorización LU es útil porque permite resolver sistemas de ecuaciones lineales de forma más eficiente y estable. Una vez que la matriz A se ha descompuesto en las matrices L y U, podemos utilizar estas matrices para resolver sistemas de ecuaciones lineales más fácilmente utilizando técnicas como la sustitución hacia adelante y hacia atrás.\n",
        "\n",
        "La factorización LU también puede ser utilizada para calcular el determinante de una matriz. El determinante de la matriz A se calcula multiplicando los elementos diagonales de la matriz U, es decir:\n",
        "\n",
        "det(A) = det(L) * det(U) = prod(U[i][i])\n",
        "\n",
        "La factorización LU es ampliamente utilizada en diversos campos, como la resolución de sistemas de ecuaciones lineales, la optimización numérica y el análisis de estructuras, entre otros.\n",
        "\n",
        "**EJEMPLO DE FACTORIZACION EN LU:**   \n",
        "\n",
        "```python\n",
        "import numpy as np\n",
        "from scipy.linalg import lu\n",
        "\n",
        "# Definir la matriz\n",
        "matriz = np.array([[4, 3, 1],\n",
        "                   [6, 9, 3],\n",
        "                   [2, 4, 8]])\n",
        "\n",
        "# Aplicar la descomposición LU\n",
        "P, L, U = lu(matriz)\n",
        "\n",
        "# Imprimir la matriz L\n",
        "print(\"Matriz L:\")\n",
        "print(L)\n",
        "print()\n",
        "\n",
        "# Imprimir la matriz U\n",
        "print(\"Matriz U:\")\n",
        "print(U)\n",
        "print()\n",
        "\n",
        "# Imprimir la matriz P\n",
        "print(\"Matriz P:\")\n",
        "print(P)\n",
        "print()\n",
        "\n",
        "```"
      ],
      "metadata": {
        "id": "isSDbXhOcDnX"
      }
    },
    {
      "cell_type": "code",
      "source": [
        "import numpy as np\n",
        "from scipy.linalg import lu\n",
        "\n",
        "# Definir la matriz\n",
        "matriz = np.array([[4, 3, 1],\n",
        "                   [6, 9, 3],\n",
        "                   [2, 4, 8]])\n",
        "\n",
        "# Aplicar la descomposición LU\n",
        "P, L, U = lu(matriz)\n",
        "\n",
        "# Imprimir la matriz L\n",
        "print(\"Matriz L:\")\n",
        "print(L)\n",
        "print()\n",
        "\n",
        "# Imprimir la matriz U\n",
        "print(\"Matriz U:\")\n",
        "print(U)\n",
        "print()\n",
        "\n",
        "# Imprimir la matriz P\n",
        "print(\"Matriz P:\")\n",
        "print(P)\n",
        "print()\n",
        "\n"
      ],
      "metadata": {
        "colab": {
          "base_uri": "https://localhost:8080/"
        },
        "id": "D0LKD5ihcgBg",
        "outputId": "7fa243bc-4266-48c4-a90c-a2f33fd4db23"
      },
      "execution_count": null,
      "outputs": [
        {
          "output_type": "stream",
          "name": "stdout",
          "text": [
            "Matriz L:\n",
            "[[ 1.          0.          0.        ]\n",
            " [ 0.66666667  1.          0.        ]\n",
            " [ 0.33333333 -0.33333333  1.        ]]\n",
            "\n",
            "Matriz U:\n",
            "[[ 6.          9.          3.        ]\n",
            " [ 0.         -3.         -1.        ]\n",
            " [ 0.          0.          6.66666667]]\n",
            "\n",
            "Matriz P:\n",
            "[[0. 1. 0.]\n",
            " [1. 0. 0.]\n",
            " [0. 0. 1.]]\n",
            "\n"
          ]
        }
      ]
    },
    {
      "cell_type": "markdown",
      "source": [
        "#**SUBESPACIOS VECTORIALES**\n",
        "\n",
        "Un vector en un plano se representa mediante un segmento rectilíneo dirigido (una flecha). Los puntos finales del segmento se denominan punto inicial y punto terminal del vector. Una flecha desde el punto inicial hasta el punto terminal indica la dirección del vector.\n",
        "\n",
        "Gráficamente, un vector se representa como una flecha ubicada en un eje de coordenadas. En esta flecha podemos identificar cada uno de los elementos que lo conforman y que estudiamos en el apartado anterior, además de algunos más. Tienen un punto desde el que nace la flecha llamado origen o punto de aplicación.\n",
        "\n",
        "**EJEMPLO DE SUBESPACIONES VECTORIALES:**\n",
        "\n",
        "```python\n",
        "import numpy as np\n",
        "\n",
        "# Definir una matriz de ejemplo\n",
        "matriz = np.array([[1, 2, 3],\n",
        "                   [4, 5, 6],\n",
        "0                   [7, 8, 9]])\n",
        "\n",
        "# Definir un vector de ejemplo\n",
        "vector = np.array([1, 2, 3])\n",
        "\n",
        "# Comprobar si el vector pertenece al subespacio generado por las columnas de la matriz\n",
        "perteneciente = np.allclose(matriz @ vector, 0)\n",
        "\n",
        "# Imprimir el resultado\n",
        "\n",
        "if perteneciente:\n",
        "    print(\"El vector pertenece al subespacio generado por las columnas de la matriz.\")\n",
        "else:\n",
        "    print(\"El vector no pertenece al subespacio generado por las columnas de la matriz.\")\n",
        "\n",
        "```"
      ],
      "metadata": {
        "id": "FJnyz4GudpSA"
      }
    },
    {
      "cell_type": "code",
      "source": [
        "import numpy as np\n",
        "\n",
        "# Definir una matriz de ejemplo\n",
        "matriz = np.array([[1, 2, 3],\n",
        "                   [4, 5, 6],\n",
        "0                   [7, 8, 9]])\n",
        "\n",
        "# Definir un vector de ejemplo\n",
        "vector = np.array([1, 2, 3])\n",
        "\n",
        "# Comprobar si el vector pertenece al subespacio generado por las columnas de la matriz\n",
        "perteneciente = np.allclose(matriz @ vector, 0)\n",
        "\n",
        "# Imprimir el resultado\n",
        "\n",
        "if perteneciente:\n",
        "    print(\"El vector pertenece al subespacio generado por las columnas de la matriz.\")\n",
        "else:\n",
        "    print(\"El vector no pertenece al subespacio generado por las columnas de la matriz.\")\n"
      ],
      "metadata": {
        "colab": {
          "base_uri": "https://localhost:8080/"
        },
        "id": "dSu4TUUzeAzS",
        "outputId": "dbb0ffb4-8bc6-43d1-839e-4a78d7eaa5cc"
      },
      "execution_count": null,
      "outputs": [
        {
          "output_type": "stream",
          "name": "stdout",
          "text": [
            "El vector no pertenece al subespacio generado por las columnas de la matriz.\n"
          ]
        }
      ]
    },
    {
      "cell_type": "markdown",
      "source": [
        "En este ejemplo, hemos definido una matriz matriz y un vector vector de ejemplo. Queremos comprobar si el vector pertenece al subespacio generado por las columnas de la matriz.\n",
        "\n",
        "Utilizamos el producto matricial @ para multiplicar la matriz por el vector y luego utilizamos la función np.allclose() de NumPy para comprobar si el resultado es cercano a cero. Si el resultado es cercano a cero, significa que el vector se puede expresar como una combinación lineal de las columnas de la matriz y, por lo tanto, pertenece al subespacio generado por ellas."
      ],
      "metadata": {
        "id": "j3lw-M2ceSmq"
      }
    },
    {
      "cell_type": "markdown",
      "source": [
        "## **ECUACIONES DE UNA RECTA**\n",
        "\n",
        "En geometría analítica las líneas rectas pueden ser expresadas mediante una ecuación del tipo y = m x + b, donde x, y son variables en un plano cartesiano.\n",
        "\n",
        "La ecuación general de una recta es una expresión de la forma Ax+By+C=0, donde A, B y C son números reales.\n",
        "\n",
        "Hay tres formas principales de sistemas de ecuaciones lineales: la forma punto-pendiente, la forma estándar y la forma pendiente-ordenada al origen.\n",
        "\n",
        "EJEMPLO DE UNA ECUACION DE UNA RECTA: \n",
        "\n",
        "\n",
        "```python\n",
        "import numpy as np\n",
        "import matplotlib.pyplot as plt\n",
        "\n",
        "# Definir los coeficientes de la ecuación de la recta\n",
        "pendiente = 2\n",
        "intercepto = 1\n",
        "\n",
        "# Generar valores de x\n",
        "x = np.linspace(-5, 5, 100)\n",
        "\n",
        "# Calcular los valores correspondientes de y utilizando la ecuación de la recta\n",
        "y = pendiente * x + intercepto\n",
        "\n",
        "# Crear el gráfico de dispersión\n",
        "plt.scatter(x, y, label='Recta')\n",
        "\n",
        "# Configurar los ejes\n",
        "plt.axhline(0, color='black',linewidth=0.5)\n",
        "plt.axvline(0, color='black',linewidth=0.5)\n",
        "plt.grid(True, linestyle='--', alpha=0.7)\n",
        "\n",
        "# Etiquetas de los ejes\n",
        "plt.xlabel('x')\n",
        "plt.ylabel('y')\n",
        "\n",
        "# Título del gráfico\n",
        "plt.title('Ecuación de una Recta')\n",
        "\n",
        "# Mostrar la leyenda\n",
        "plt.legend()\n",
        "\n",
        "# Mostrar el gráfico\n",
        "plt.show()\n",
        "\n",
        "```"
      ],
      "metadata": {
        "id": "0R6VcAZ6eviX"
      }
    },
    {
      "cell_type": "code",
      "source": [
        "import numpy as np\n",
        "import matplotlib.pyplot as plt\n",
        "\n",
        "# Definir los coeficientes de la ecuación de la recta\n",
        "pendiente = 2\n",
        "intercepto = 1\n",
        "\n",
        "# Generar valores de x\n",
        "x = np.linspace(-5, 5, 100)\n",
        "\n",
        "# Calcular los valores correspondientes de y utilizando la ecuación de la recta\n",
        "y = pendiente * x + intercepto\n",
        "\n",
        "# Crear el gráfico de dispersión\n",
        "plt.scatter(x, y, label='Recta')\n",
        "\n",
        "# Configurar los ejes\n",
        "plt.axhline(0, color='black',linewidth=0.5)\n",
        "plt.axvline(0, color='black',linewidth=0.5)\n",
        "plt.grid(True, linestyle='--', alpha=0.7)\n",
        "\n",
        "# Etiquetas de los ejes\n",
        "plt.xlabel('x')\n",
        "plt.ylabel('y')\n",
        "\n",
        "# Título del gráfico\n",
        "plt.title('Ecuación de una Recta')\n",
        "\n",
        "# Mostrar la leyenda\n",
        "plt.legend()\n",
        "\n",
        "# Mostrar el gráfico\n",
        "plt.show()\n"
      ],
      "metadata": {
        "colab": {
          "base_uri": "https://localhost:8080/",
          "height": 472
        },
        "id": "OcpaIAVpe6wo",
        "outputId": "69294bce-1c3f-4bcb-c00a-974fc8f3bdf1"
      },
      "execution_count": null,
      "outputs": [
        {
          "output_type": "display_data",
          "data": {
            "text/plain": [
              "<Figure size 640x480 with 1 Axes>"
            ],
            "image/png": "[encoded data removed]"
          },
          "metadata": {}
        }
      ]
    },
    {
      "cell_type": "markdown",
      "source": [
        "En este ejemplo, hemos definido los coeficientes de la ecuación de una recta: ***la pendiente (slope) y el intercepto (intercept***). Luego, hemos generado un conjunto de valores de x ***utilizando np.linspace()*** para crear un rango de valores desde -5 hasta 5.\n",
        "\n",
        "Utilizando la ***ecuación de la recta y = mx + b***, calculamos los valores correspondientes de y para cada valor de x.\n",
        "\n",
        "Luego, utilizamos ***plt.scatter(***) para crear un gráfico de dispersión que representa la recta. Configuramos los ejes, agregamos una cuadrícula y etiquetas a los ejes, y mostramos el título del gráfico.\n",
        "\n",
        "Finalmente, utilizamos ***plt.show() ***para mostrar el gráfico de la recta.\n",
        "\n"
      ],
      "metadata": {
        "id": "s0yQ48QjfQYC"
      }
    },
    {
      "cell_type": "markdown",
      "source": [
        "##**OPERACIONES ENTRE VECTORES**\n",
        "\n",
        "Las operaciones matemáticas que pueden aplicarse a las coordenadas de los vectores son la suma, resta y multiplicación por un escalar. En otras palabras, las operaciones matemáticas que pueden hacerse a las coordenadas de los vectores son la suma, la resta y la multiplicación por un número.\n",
        "\n",
        "```python\n",
        "import numpy as np\n",
        "\n",
        "# Definir dos vectores de ejemplo\n",
        "vector1 = np.array([1, 2, 3])\n",
        "vector2 = np.array([4, 5, 6])\n",
        "\n",
        "# Suma de vectores\n",
        "suma = vector1 + vector2\n",
        "\n",
        "# Resta de vectores\n",
        "resta = vector1 - vector2\n",
        "\n",
        "# Producto escalar de vectores\n",
        "producto_escalar = np.dot(vector1, vector2)\n",
        "\n",
        "# Producto vectorial de vectores (solo para vectores de 3 dimensiones)\n",
        "producto_vectorial = np.cross(vector1, vector2)\n",
        "\n",
        "# Imprimir los resultados\n",
        "print(\"Suma de vectores:\", suma)\n",
        "print(\"Resta de vectores:\", resta)\n",
        "print(\"Producto escalar de vectores:\", producto_escalar)\n",
        "print(\"Producto vectorial de vectores:\", producto_vectorial)\n",
        "\n",
        "```"
      ],
      "metadata": {
        "id": "vEhA6907fyPW"
      }
    },
    {
      "cell_type": "code",
      "source": [
        "import numpy as np\n",
        "\n",
        "# Definir dos vectores de ejemplo\n",
        "vector1 = np.array([1, 2, 3])\n",
        "vector2 = np.array([4, 5, 6])\n",
        "\n",
        "# Suma de vectores\n",
        "suma = vector1 + vector2\n",
        "\n",
        "# Resta de vectores\n",
        "resta = vector1 - vector2\n",
        "\n",
        "# Producto escalar de vectores\n",
        "producto_escalar = np.dot(vector1, vector2)\n",
        "\n",
        "# Producto vectorial de vectores (solo para vectores de 3 dimensiones)\n",
        "producto_vectorial = np.cross(vector1, vector2)\n",
        "\n",
        "# Imprimir los resultados\n",
        "print(\"Suma de vectores:\", suma)\n",
        "print(\"Resta de vectores:\", resta)\n",
        "print(\"Producto escalar de vectores:\", producto_escalar)\n",
        "print(\"Producto vectorial de vectores:\", producto_vectorial)\n"
      ],
      "metadata": {
        "colab": {
          "base_uri": "https://localhost:8080/"
        },
        "id": "dS9l67S4gD03",
        "outputId": "7b013e2e-3f62-4fdb-aeac-d63209a31203"
      },
      "execution_count": null,
      "outputs": [
        {
          "output_type": "stream",
          "name": "stdout",
          "text": [
            "Suma de vectores: [5 7 9]\n",
            "Resta de vectores: [-3 -3 -3]\n",
            "Producto escalar de vectores: 32\n",
            "Producto vectorial de vectores: [-3  6 -3]\n"
          ]
        }
      ]
    },
    {
      "cell_type": "markdown",
      "source": [
        "En este ejemplo, hemos definido dos vectores de ejemplo vector1 y vector2 utilizando ***la función np.array() ***de NumPy. Luego, realizamos las siguientes operaciones:\n",
        "\n",
        "- Suma de vectores: Utilizamos el operador + para sumar los vectores vector1 y vector2.\n",
        "\n",
        "- Resta de vectores: Utilizamos el operador - para restar los vectores vector2 a vector1.\n",
        "\n",
        "- Producto escalar de vectores: Utilizamos ***la función np.dot()*** para calcular el producto escalar entre los vectores vector1 y vector2.\n",
        "\n",
        "- Producto vectorial de vectores: Utilizamos la ***función np.cross()*** para calcular el producto vectorial entre los vectores vector1 y vector2. Nota: Esta operación solo es válida para vectores de 3 dimensiones.\n",
        "\n",
        "- Finalmente, imprimimos los resultados de las operaciones."
      ],
      "metadata": {
        "id": "b2-pyCT5gKUo"
      }
    },
    {
      "cell_type": "markdown",
      "source": [
        "## CONJUNTO LINEALMENTE DEPENDIENTES E INDEPENDIENTES\n",
        "\n",
        "### **LINEALMETE DEPENDIENTE** \n",
        "Dos vectores linealmente dependientes son dos vectores que no pueden combinarse linealmente y, por tanto, no pueden formar una base en el plano. En otras palabras, dos vectores son linealmente dependientes cuando no podemos escribirlos como una combinación lineal y, por tanto, no podrán formar una base.\n",
        "\n",
        "Dos vectores son linealmente dependientes si, y sólo si, son paralelos. donde los coeficientes son distintos de cero. Por lo que por definición los vectores son linealmente dependientes. son linealmente dependientes si sus componentes son proporcionales.\n",
        "\n",
        "###**LINEALMENTE INDEPENDIENTE**\n",
        "Son linealmente independientes si ninguno de ellos puede ser escrito con una combinación lineal de los restantes.\n",
        "\n",
        "Los vectores linealmente independientes tienen distinta dirección y sus componentes no son proporcionales.\n",
        "\n",
        "Otra forma de determinar que los vectores son linealmente independientes es mediante el determinantes de la matriz de sus componentes, si este es distinto de cero entonces los vectores son linealmente independientes; en caso contrario se dice que los vectores son linealmente dependientes.\n",
        "```python\n",
        "import numpy as np\n",
        "\n",
        "# Definir un conjunto de vectores de ejemplo\n",
        "vectors = np.array([[1, 2, 3],\n",
        "                    [4, 5, 6],\n",
        "                    [7, 8, 9]])\n",
        "\n",
        "# Comprobar si el conjunto de vectores es linealmente dependiente\n",
        "dependent = np.linalg.matrix_rank(vectors) < vectors.shape[0]\n",
        "\n",
        "# Imprimir el resultado\n",
        "if dependent:\n",
        "    print(\"El conjunto de vectores es linealmente dependiente.\")\n",
        "else:\n",
        "    print(\"El conjunto de vectores es linealmente independiente.\")\n",
        "```\n",
        " "
      ],
      "metadata": {
        "id": "5cFc2vRKg62M"
      }
    },
    {
      "cell_type": "code",
      "source": [
        "import numpy as np\n",
        "\n",
        "# Definir un conjunto de vectores de ejemplo\n",
        "vectors = np.array([[1, 2, 3],\n",
        "                    [4, 5, 6],\n",
        "                    [7, 8, 9]])\n",
        "\n",
        "# Comprobar si el conjunto de vectores es linealmente dependiente\n",
        "dependent = np.linalg.matrix_rank(vectors) < vectors.shape[0]\n",
        "\n",
        "# Imprimir el resultado\n",
        "if dependent:\n",
        "    print(\"El conjunto de vectores es linealmente dependiente.\")\n",
        "else:\n",
        "    print(\"El conjunto de vectores es linealmente independiente.\")\n"
      ],
      "metadata": {
        "colab": {
          "base_uri": "https://localhost:8080/"
        },
        "id": "J-EDOnkNh3lC",
        "outputId": "c9c76e14-e18a-4186-eea3-0be258e8311c"
      },
      "execution_count": null,
      "outputs": [
        {
          "output_type": "stream",
          "name": "stdout",
          "text": [
            "El conjunto de vectores es linealmente dependiente.\n"
          ]
        }
      ]
    },
    {
      "cell_type": "markdown",
      "source": [
        "En este ejemplo, hemos definido un conjunto de vectores vectors de ejemplo utilizando la función ***np.array() ***de NumPy. Queremos comprobar si el conjunto de vectores es linealmente dependiente.\n",
        "\n",
        "Utilizamos la función ***np.linalg.matrix_rank(***) para calcular el rango de la matriz formada por los vectores. Si el rango es menor que el número de vectores, significa que el conjunto de vectores es linealmente dependiente.\n",
        "\n",
        "```python\n",
        "import numpy as np\n",
        "\n",
        "# Definir un conjunto de vectores de ejemplo\n",
        "vectors = np.array([[1, 0, 0],\n",
        "                    [0, 1, 0],\n",
        "                    [0, 0, 1]])\n",
        "\n",
        "# Comprobar si el conjunto de vectores es linealmente independiente\n",
        "dependent = np.linalg.matrix_rank(vectors) < vectors.shape[0]\n",
        "\n",
        "# Imprimir el resultado\n",
        "if dependent:\n",
        "    print(\"El conjunto de vectores es linealmente dependiente.\")\n",
        "else:\n",
        "    print(\"El conjunto de vectores es linealmente independiente.\")\n",
        "\n",
        "```"
      ],
      "metadata": {
        "id": "rMu7uvvhh-b7"
      }
    },
    {
      "cell_type": "code",
      "source": [
        "import numpy as np\n",
        "\n",
        "# Definir un conjunto de vectores de ejemplo\n",
        "vectors = np.array([[1, 0, 0],\n",
        "                    [0, 1, 0],\n",
        "                    [0, 0, 1]])\n",
        "\n",
        "# Comprobar si el conjunto de vectores es linealmente independiente\n",
        "dependent = np.linalg.matrix_rank(vectors) < vectors.shape[0]\n",
        "\n",
        "# Imprimir el resultado\n",
        "if dependent:\n",
        "    print(\"El conjunto de vectores es linealmente dependiente.\")\n",
        "else:\n",
        "    print(\"El conjunto de vectores es linealmente independiente.\")\n"
      ],
      "metadata": {
        "colab": {
          "base_uri": "https://localhost:8080/"
        },
        "id": "ptCSurI8iJf7",
        "outputId": "c495f40e-00fb-4a4d-97ff-57ac19d98d79"
      },
      "execution_count": null,
      "outputs": [
        {
          "output_type": "stream",
          "name": "stdout",
          "text": [
            "El conjunto de vectores es linealmente independiente.\n"
          ]
        }
      ]
    },
    {
      "cell_type": "markdown",
      "source": [
        "En este ejemplo, hemos definido un conjunto de vectores vectors de ejemplo. Este conjunto está compuesto por tres vectores de longitud 3 que forman una base canónica en el espacio tridimensional.\n",
        "\n",
        "Utilizamos la función*** np.linalg.matrix_rank() ***para calcular el rango de la matriz formada por los vectores. Si el rango es igual al número de vectores, significa que el conjunto de vectores es linealmente independiente.\n",
        "\n",
        "En este caso, los vectores son linealmente independientes, ya que ninguno de ellos se puede expresar como una combinación lineal de los otros."
      ],
      "metadata": {
        "id": "ZpPK9M6viPr1"
      }
    },
    {
      "cell_type": "markdown",
      "source": [
        "## **CAMBIO DE BASE**\n",
        "\n",
        "La ecuación del cambio de base de B′ a B es X=PX′ X = P X ′ siendo P la matriz del cambio de base de B′ a B .\n",
        "\n",
        "Cambio de base: A partir de las matrices [A] y [R] y de sus inversas [A]-1 y [R]-1, es posible transformar las coordenadas de la base azul a la base roja, y de la base roja a la base azul. Para ello, basta pasar las coordenadas de origen a la base canónica, y desde esta a la base de destino.\n",
        "\n",
        "La base no es más que un conjunto de vectores v1, v2, … vn que son linealmente independientes y que son capaces de generar cualquier vector de dicho espacio (estamos hablando del mismo espacio vectorial).\n",
        "\n",
        "**EJEMPLO DE CAMBIO DE BASE: **\n",
        "\n",
        "```python\n",
        "import numpy as np\n",
        "\n",
        "# Definir la matriz de cambio de base\n",
        "matriz_cambio_base = np.array([[2, -1],\n",
        "                               [3, 4]])\n",
        "\n",
        "# Definir el vector en la base original\n",
        "vector_base_original = np.array([1, 2])\n",
        "\n",
        "# Calcular el vector en la nueva base\n",
        "vector_base_nueva = np.dot(matriz_cambio_base, vector_base_original)\n",
        "\n",
        "# Imprimir los resultados\n",
        "print(\"Vector en la base original:\", vector_base_original)\n",
        "print(\"Vector en la nueva base:\", vector_base_nueva)\n",
        "\n",
        "```"
      ],
      "metadata": {
        "id": "8ufrRQMqjs0G"
      }
    },
    {
      "cell_type": "code",
      "source": [
        "import numpy as np\n",
        "\n",
        "# Definir la matriz de cambio de base\n",
        "matriz_cambio_base = np.array([[2, -1],\n",
        "                               [3, 4]])\n",
        "\n",
        "# Definir el vector en la base original\n",
        "vector_base_original = np.array([1, 2])\n",
        "\n",
        "# Calcular el vector en la nueva base\n",
        "vector_base_nueva = np.dot(matriz_cambio_base, vector_base_original)\n",
        "\n",
        "# Imprimir los resultados\n",
        "print(\"Vector en la base original:\", vector_base_original)\n",
        "print(\"Vector en la nueva base:\", vector_base_nueva)\n"
      ],
      "metadata": {
        "colab": {
          "base_uri": "https://localhost:8080/"
        },
        "id": "YLQllXDhkD2y",
        "outputId": "110efac7-dc2d-43c6-e19d-b3a05ea35f7b"
      },
      "execution_count": null,
      "outputs": [
        {
          "output_type": "stream",
          "name": "stdout",
          "text": [
            "Vector en la base original: [1 2]\n",
            "Vector en la nueva base: [ 0 11]\n"
          ]
        }
      ]
    },
    {
      "cell_type": "markdown",
      "source": [
        "En este ejemplo, hemos definido la matriz de cambio de base matriz_cambio_base. Esta matriz representa la transformación lineal que realiza el cambio de base desde la base original a la nueva base.\n",
        "\n",
        "También hemos definido el vector en la base original vector_base_original. Queremos calcular el vector equivalente en la nueva base.\n",
        "\n",
        "Utilizamos la función ***np.dot() ***para realizar la multiplicación matricial entre la matriz de cambio de base y el vector en la base original. Esto nos da el vector equivalente en la nueva base."
      ],
      "metadata": {
        "id": "5djxs_5mkOJr"
      }
    },
    {
      "cell_type": "markdown",
      "source": [
        "# LAS CONICAS \n",
        "\n",
        "Definición: \n",
        "Es un lugar en el que \"W\" y \"A\" tiene una relacion de distancias de punto a punto  y una recta  fijos es constante  recibe el nombre  de sección  cónica simplemente cónica \n",
        "\n",
        "\n",
        "***Algunos ejemplos que podemos representar en el plano como conicas son:***\n",
        "\n",
        "* Circulo\n",
        "\n",
        "* Elipse\n",
        "\n",
        "* La Parabola\n",
        "\n",
        "* Hiperbole\n",
        "\n",
        "***¿Cómo diferenciar los tipos de conicas?***\n",
        "\n",
        "Si el discriminante es igual a cero, entonces la cónica es una circunferencia. Si el discriminante es mayor que cero, entonces la cónica es una elipse si A y C tienen el mismo signo, o una hipérbola si tienen signos opuestos. Si el discriminante es menor que cero, entonces la cónica es una parábola.\n",
        "\n",
        "***¿Cómo se obtienen las secciones cónicas?***\n",
        "\n",
        "La superficie cónica se obtiene haciendo rotar una recta denominada generatriz alrededor de un punto fijo llamado vértice manteniendo otro punto constantemente sobre una circunferencia llamada directriz situada en un plano perpendicular al eje y condicionada a que su centro esté sobre el eje.\n",
        "\n",
        "\n",
        "***LAS ICONICAS MAS IMPORTANTES ***\n",
        "\n",
        "La circunferencia, la elipse, la parábola o la hipérbola son curvas planas de todos conocidas. Estas curvas aparecían ya en la geometría griega y fueron denominadas secciones cónicas, ya que los griegos de la época de Platón consideraban que tales curvas procedían de la intersección de un cono con un plano.\n",
        "\n"
      ],
      "metadata": {
        "id": "kcI5WhNhAZag"
      }
    },
    {
      "cell_type": "markdown",
      "source": [
        "###**FORMAR UN CIRCULO**\n",
        "\n",
        "```python\n",
        "import matplotlib.pyplot as plt\n",
        "import numpy as np\n",
        "\n",
        "# Parámetros del círculo\n",
        "radius = 5  # Radio del círculo\n",
        "center = (0, 0)  # Centro del círculo\n",
        "\n",
        "# Generar puntos del círculo\n",
        "theta = np.linspace(0, 2*np.pi, 100)\n",
        "x = center[0] + radius * np.cos(theta)\n",
        "y = center[1] + radius * np.sin(theta)\n",
        "\n",
        "# Crear la figura y los ejes\n",
        "fig, ax = plt.subplots()\n",
        "\n",
        "# Graficar el círculo\n",
        "ax.plot(x, y)\n",
        "\n",
        "# Establecer límites de los ejes\n",
        "ax.set_xlim(center[0]-radius-1, center[0]+radius+1)\n",
        "ax.set_ylim(center[1]-radius-1, center[1]+radius+1)\n",
        "\n",
        "# Configurar aspecto de los ejes\n",
        "ax.set_aspect('equal')\n",
        "\n",
        "# Mostrar la imagen del círculo\n",
        "plt.show()\n",
        "\n",
        "```"
      ],
      "metadata": {
        "id": "OtDlF-GwWxpO"
      }
    },
    {
      "cell_type": "code",
      "source": [
        "import matplotlib.pyplot as plt\n",
        "import numpy as np\n",
        "\n",
        "# Parámetros del círculo\n",
        "radius = 5  # Radio del círculo\n",
        "center = (0, 0)  # Centro del círculo\n",
        "\n",
        "# Generar puntos del círculo\n",
        "theta = np.linspace(0, 2*np.pi, 100)\n",
        "x = center[0] + radius * np.cos(theta)\n",
        "y = center[1] + radius * np.sin(theta)\n",
        "\n",
        "# Crear la figura y los ejes\n",
        "fig, ax = plt.subplots()\n",
        "\n",
        "# Graficar el círculo\n",
        "ax.plot(x, y)\n",
        "\n",
        "# Establecer límites de los ejes\n",
        "ax.set_xlim(center[0]-radius-1, center[0]+radius+1)\n",
        "ax.set_ylim(center[1]-radius-1, center[1]+radius+1)\n",
        "\n",
        "# Configurar aspecto de los ejes\n",
        "ax.set_aspect('equal')\n",
        "\n",
        "# Mostrar la imagen del círculo\n",
        "plt.show()\n"
      ],
      "metadata": {
        "colab": {
          "base_uri": "https://localhost:8080/",
          "height": 435
        },
        "id": "JDWiZPt5XC5p",
        "outputId": "ccdb8b3d-5e9c-4b24-c38d-153b540d8f90"
      },
      "execution_count": null,
      "outputs": [
        {
          "output_type": "display_data",
          "data": {
            "text/plain": [
              "<Figure size 640x480 with 1 Axes>"
            ],
            "image/png": "[encoded data removed]"
          },
          "metadata": {}
        }
      ]
    },
    {
      "cell_type": "markdown",
      "source": [
        "###**FORMAR UN ELIPSE**\n",
        "\n",
        "```python\n",
        "import matplotlib.pyplot as plt\n",
        "import numpy as np\n",
        "\n",
        "# Parámetros de la elipse\n",
        "a = 5  # Semieje mayor\n",
        "b = 3  # Semieje menor\n",
        "center = (0, 0)  # Centro de la elipse\n",
        "\n",
        "# Generar puntos de la elipse\n",
        "theta = np.linspace(0, 2*np.pi, 100)\n",
        "x = center[0] + a * np.cos(theta)\n",
        "y = center[1] + b * np.sin(theta)\n",
        "\n",
        "# Crear la figura y los ejes\n",
        "fig, ax = plt.subplots()\n",
        "\n",
        "# Graficar la elipse\n",
        "ax.plot(x, y)\n",
        "\n",
        "# Establecer límites de los ejes\n",
        "ax.set_xlim(center[0]-a-1, center[0]+a+1)\n",
        "ax.set_ylim(center[1]-b-1, center[1]+b+1)\n",
        "\n",
        "# Configurar aspecto de los ejes\n",
        "ax.set_aspect('equal')\n",
        "\n",
        "# Mostrar la imagen de la elipse\n",
        "plt.show()\n",
        "\n",
        "\n",
        "```"
      ],
      "metadata": {
        "id": "GnQ4uexAXSgu"
      }
    },
    {
      "cell_type": "code",
      "source": [
        "import matplotlib.pyplot as plt\n",
        "import numpy as np\n",
        "\n",
        "# Parámetros de la elipse\n",
        "a = 5  # Semieje mayor\n",
        "b = 3  # Semieje menor\n",
        "center = (0, 0)  # Centro de la elipse\n",
        "\n",
        "# Generar puntos de la elipse\n",
        "theta = np.linspace(0, 2*np.pi, 100)\n",
        "x = center[0] + a * np.cos(theta)\n",
        "y = center[1] + b * np.sin(theta)\n",
        "\n",
        "# Crear la figura y los ejes\n",
        "fig, ax = plt.subplots()\n",
        "\n",
        "# Graficar la elipse\n",
        "ax.plot(x, y)\n",
        "\n",
        "# Establecer límites de los ejes\n",
        "ax.set_xlim(center[0]-a-1, center[0]+a+1)\n",
        "ax.set_ylim(center[1]-b-1, center[1]+b+1)\n",
        "\n",
        "# Configurar aspecto de los ejes\n",
        "ax.set_aspect('equal')\n",
        "\n",
        "# Mostrar la imagen de la elipse\n",
        "plt.show()\n"
      ],
      "metadata": {
        "colab": {
          "base_uri": "https://localhost:8080/",
          "height": 375
        },
        "id": "GXr6fma-Xr2a",
        "outputId": "374b7ca6-dd51-4212-f590-a8015fba5a88"
      },
      "execution_count": null,
      "outputs": [
        {
          "output_type": "display_data",
          "data": {
            "text/plain": [
              "<Figure size 640x480 with 1 Axes>"
            ],
            "image/png": "[encoded data removed]"
          },
          "metadata": {}
        }
      ]
    },
    {
      "cell_type": "markdown",
      "source": [
        "##**FORMAR UNA PARABOLA**\n",
        "```python\n",
        "import matplotlib.pyplot as plt\n",
        "import numpy as np\n",
        "\n",
        "# Parámetros de la parábola\n",
        "a = 1  # Coeficiente cuadrático\n",
        "b = 2  # Coeficiente lineal\n",
        "c = 1  # Término constante\n",
        "\n",
        "# Rango de valores x\n",
        "x = np.linspace(-10, 10, 100)\n",
        "\n",
        "# Calcular los valores correspondientes de y\n",
        "y = a * x**2 + b * x + c\n",
        "\n",
        "# Crear la figura y los ejes\n",
        "fig, ax = plt.subplots()\n",
        "\n",
        "# Graficar la parábola\n",
        "ax.plot(x, y)\n",
        "\n",
        "# Configurar los límites de los ejes\n",
        "ax.set_xlim(-10, 10)\n",
        "ax.set_ylim(-10, 100)\n",
        "\n",
        "# Configurar aspecto de los ejes\n",
        "ax.axhline(0, color='black', linewidth=0.5)\n",
        "ax.axvline(0, color='black', linewidth=0.5)\n",
        "\n",
        "# Etiquetas de los ejes\n",
        "ax.set_xlabel('x')\n",
        "ax.set_ylabel('y')\n",
        "\n",
        "# Título del gráfico\n",
        "ax.set_title('Gráfico de una parábola')\n",
        "\n",
        "# Mostrar el gráfico de la parábola\n",
        "plt.show()\n",
        "```"
      ],
      "metadata": {
        "id": "Wvn0WcD7YAtC"
      }
    },
    {
      "cell_type": "code",
      "source": [
        "import matplotlib.pyplot as plt\n",
        "import numpy as np\n",
        "\n",
        "# Parámetros de la parábola\n",
        "a = 1  # Coeficiente cuadrático\n",
        "b = 2  # Coeficiente lineal\n",
        "c = 1  # Término constante\n",
        "\n",
        "# Rango de valores x\n",
        "x = np.linspace(-10, 10, 100)\n",
        "\n",
        "# Calcular los valores correspondientes de y\n",
        "y = a * x**2 + b * x + c\n",
        "\n",
        "# Crear la figura y los ejes\n",
        "fig, ax = plt.subplots()\n",
        "\n",
        "# Graficar la parábola\n",
        "ax.plot(x, y)\n",
        "\n",
        "# Configurar los límites de los ejes\n",
        "ax.set_xlim(-10, 10)\n",
        "ax.set_ylim(-10, 100)\n",
        "\n",
        "# Configurar aspecto de los ejes\n",
        "ax.axhline(0, color='black', linewidth=0.5)\n",
        "ax.axvline(0, color='black', linewidth=0.5)\n",
        "\n",
        "# Etiquetas de los ejes\n",
        "ax.set_xlabel('x')\n",
        "ax.set_ylabel('y')\n",
        "\n",
        "# Título del gráfico\n",
        "ax.set_title('Gráfico de una parábola')\n",
        "\n",
        "# Mostrar el gráfico de la parábola\n",
        "plt.show()\n"
      ],
      "metadata": {
        "colab": {
          "base_uri": "https://localhost:8080/",
          "height": 419
        },
        "id": "CxYlOpeIYUdf",
        "outputId": "79e43194-e57c-4d20-d4ab-597715b16599"
      },
      "execution_count": null,
      "outputs": [
        {
          "output_type": "display_data",
          "data": {
            "text/plain": [
              "<Figure size 640x480 with 1 Axes>"
            ],
            "image/png": "[encoded data removed]"
          },
          "metadata": {}
        }
      ]
    },
    {
      "cell_type": "markdown",
      "source": [
        "##**FORMAR UNA HIPERBOLE**\n",
        "\n",
        "``` python\n",
        "import matplotlib.pyplot as plt\n",
        "import numpy as np\n",
        "\n",
        "# Parámetros de la hipérbola\n",
        "a = 1  # Semieje mayor\n",
        "b = 2  # Semieje menor\n",
        "\n",
        "# Rango de valores x\n",
        "x = np.linspace(-10, 10, 100)\n",
        "\n",
        "# Calcular los valores correspondientes de y\n",
        "y1 = np.sqrt((b**2 * x**2) / a**2 + b**2)\n",
        "y2 = -np.sqrt((b**2 * x**2) / a**2 + b**2)\n",
        "\n",
        "# Crear la figura y los ejes\n",
        "fig, ax = plt.subplots()\n",
        "\n",
        "# Graficar la hipérbola\n",
        "ax.plot(x, y1, label='y = sqrt((b^2 * x^2) / a^2 + b^2)')\n",
        "ax.plot(x, y2, label='y = -sqrt((b^2 * x^2) / a^2 + b^2)')\n",
        "\n",
        "# Configurar los límites de los ejes\n",
        "ax.set_xlim(-10, 10)\n",
        "ax.set_ylim(-10, 10)\n",
        "\n",
        "# Configurar aspecto de los ejes\n",
        "ax.axhline(0, color='black', linewidth=0.5)\n",
        "ax.axvline(0, color='black', linewidth=0.5)\n",
        "\n",
        "# Etiquetas de los ejes\n",
        "ax.set_xlabel('x')\n",
        "ax.set_ylabel('y')\n",
        "\n",
        "# Título del gráfico\n",
        "ax.set_title('Gráfico de una hipérbola')\n",
        "\n",
        "# Mostrar la leyenda\n",
        "ax.legend()\n",
        "\n",
        "# Mostrar el gráfico de la hipérbola\n",
        "plt.show()\n",
        "\n",
        "\n",
        "```"
      ],
      "metadata": {
        "id": "r3PLbqSyY-Rn"
      }
    },
    {
      "cell_type": "code",
      "source": [
        "import matplotlib.pyplot as plt\n",
        "import numpy as np\n",
        "\n",
        "# Parámetros de la hipérbola\n",
        "a = 1  # Semieje mayor\n",
        "b = 2  # Semieje menor\n",
        "\n",
        "# Rango de valores x\n",
        "x = np.linspace(-10, 10, 100)\n",
        "\n",
        "# Calcular los valores correspondientes de y\n",
        "y1 = np.sqrt((b**2 * x**2) / a**2 + b**2)\n",
        "y2 = -np.sqrt((b**2 * x**2) / a**2 + b**2)\n",
        "\n",
        "# Crear la figura y los ejes\n",
        "fig, ax = plt.subplots()\n",
        "\n",
        "# Graficar la hipérbola\n",
        "ax.plot(x, y1, label='y = sqrt((b^2 * x^2) / a^2 + b^2)')\n",
        "ax.plot(x, y2, label='y = -sqrt((b^2 * x^2) / a^2 + b^2)')\n",
        "\n",
        "# Configurar los límites de los ejes\n",
        "ax.set_xlim(-10, 10)\n",
        "ax.set_ylim(-10, 10)\n",
        "\n",
        "# Configurar aspecto de los ejes\n",
        "ax.axhline(0, color='black', linewidth=0.5)\n",
        "ax.axvline(0, color='black', linewidth=0.5)\n",
        "\n",
        "# Etiquetas de los ejes\n",
        "ax.set_xlabel('x')\n",
        "ax.set_ylabel('y')\n",
        "\n",
        "# Título del gráfico\n",
        "ax.set_title('Gráfico de una hipérbola')\n",
        "\n",
        "# Mostrar la leyenda\n",
        "ax.legend()\n",
        "\n",
        "# Mostrar el gráfico de la hipérbola\n",
        "plt.show()\n"
      ],
      "metadata": {
        "colab": {
          "base_uri": "https://localhost:8080/",
          "height": 409
        },
        "id": "hEB_MrJuZJq3",
        "outputId": "301dea1d-fca0-44b4-e418-ce122eb9eff9"
      },
      "execution_count": null,
      "outputs": [
        {
          "output_type": "display_data",
          "data": {
            "text/plain": [
              "<Figure size 640x480 with 1 Axes>"
            ],
            "image/png": "[encoded data removed]"
          },
          "metadata": {}
        }
      ]
    },
    {
      "cell_type": "markdown",
      "source": [
        "***Ejercicio de Conicas***\n",
        "\n",
        "Escribe un programa en Google Colab que solicite al usuario ingresar los valores de \"h\", \"k\", \"a\" y \"b\".\n",
        "\n",
        "Calcula y muestra en pantalla las siguientes propiedades de la elipse:\n",
        "\n",
        "Coordenadas del centro (h, k).\n",
        "\n",
        "Longitudes de los semiejes (a y b).\n",
        "\n",
        "Distancia focal (c), donde c = √(a^2 - b^2).\n",
        "\n",
        "Distancia entre los focos (2c).\n",
        "\n",
        "Longitud de la cuerda focal (2a).\n",
        "\n",
        "Excentricidad (e), donde e = c / a.\n",
        "\n",
        "Área de la elipse (A), donde A = π * a * b.\n",
        "```python\n",
        "import math\n",
        "\n",
        "# Paso 1: Solicitar al usuario los valores de h, k, a y b.\n",
        "h = float(input(\"Ingrese el valor de h (coordenada x del centro): \"))\n",
        "k = float(input(\"Ingrese el valor de k (coordenada y del centro): \"))\n",
        "a = float(input(\"Ingrese el valor de a (longitud del semieje horizontal): \"))\n",
        "b = float(input(\"Ingrese el valor de b (longitud del semieje vertical): \"))\n",
        "\n",
        "# Paso 2: Calcular y mostrar las propiedades de la elipse.\n",
        "print(\"\\nPropiedades de la elipse:\")\n",
        "print(\"-------------------------------\")\n",
        "print(\"Coordenadas del centro: ({}, {})\".format(h, k))\n",
        "print(\"Longitudes de los semiejes: a = {}, b = {}\".format(a, b))\n",
        "\n",
        "# Calcular la distancia focal (c)\n",
        "c = math.sqrt(a**2 - b**2)\n",
        "print(\"Distancia focal: c = {:.2f}\".format(c))\n",
        "\n",
        "# Calcular la distancia entre los focos (2c)\n",
        "distancia_focos = 2 * c\n",
        "print(\"Distancia entre los focos: {:.2f}\".format(distancia_focos))\n",
        "\n",
        "# Calcular la longitud de la cuerda focal (2a)\n",
        "longitud_cuerda_focal = 2 * a\n",
        "print(\"Longitud de la cuerda focal: {:.2f}\".format(longitud_cuerda_focal))\n",
        "\n",
        "# Calcular la excentricidad (e)\n",
        "excentricidad = c / a\n",
        "print(\"Excentricidad: {:.2f}\".format(excentricidad))\n",
        "\n",
        "# Calcular el área de la elipse (A)\n",
        "area_elipse = math.pi * a * b\n",
        "print(\"Área de la elipse: {:.2f}\".format(area_elipse))\n",
        "```"
      ],
      "metadata": {
        "id": "LQsSo8rUZh-h"
      }
    },
    {
      "cell_type": "code",
      "source": [
        "import math\n",
        "\n",
        "# Paso 1: Solicitar al usuario los valores de h, k, a y b.\n",
        "h = float(input(\"Ingrese el valor de h (coordenada x del centro): \"))\n",
        "k = float(input(\"Ingrese el valor de k (coordenada y del centro): \"))\n",
        "a = float(input(\"Ingrese el valor de a (longitud del semieje horizontal): \"))\n",
        "b = float(input(\"Ingrese el valor de b (longitud del semieje vertical): \"))\n",
        "\n",
        "# Paso 2: Calcular y mostrar las propiedades de la elipse.\n",
        "print(\"\\nPropiedades de la elipse:\")\n",
        "print(\"-------------------------------\")\n",
        "print(\"Coordenadas del centro: ({}, {})\".format(h, k))\n",
        "print(\"Longitudes de los semiejes: a = {}, b = {}\".format(a, b))\n",
        "\n",
        "# Calcular la distancia focal (c)\n",
        "c = math.sqrt(a**2 - b**2)\n",
        "print(\"Distancia focal: c = {:.2f}\".format(c))\n",
        "\n",
        "# Calcular la distancia entre los focos (2c)\n",
        "distancia_focos = 2 * c\n",
        "print(\"Distancia entre los focos: {:.2f}\".format(distancia_focos))\n",
        "\n",
        "# Calcular la longitud de la cuerda focal (2a)\n",
        "longitud_cuerda_focal = 2 * a\n",
        "print(\"Longitud de la cuerda focal: {:.2f}\".format(longitud_cuerda_focal))\n",
        "\n",
        "# Calcular la excentricidad (e)\n",
        "excentricidad = c / a\n",
        "print(\"Excentricidad: {:.2f}\".format(excentricidad))\n",
        "\n",
        "# Calcular el área de la elipse (A)\n",
        "area_elipse = math.pi * a * b\n",
        "print(\"Área de la elipse: {:.2f}\".format(area_elipse))"
      ],
      "metadata": {
        "colab": {
          "base_uri": "https://localhost:8080/"
        },
        "id": "qjFJMQnp-jDg",
        "outputId": "5f7addb8-0d73-4f40-c026-e8860306e94c"
      },
      "execution_count": null,
      "outputs": [
        {
          "output_type": "stream",
          "name": "stdout",
          "text": [
            "Ingrese el valor de h (coordenada x del centro): 5\n",
            "Ingrese el valor de k (coordenada y del centro): 6\n",
            "Ingrese el valor de a (longitud del semieje horizontal): 7\n",
            "Ingrese el valor de b (longitud del semieje vertical): 2\n",
            "\n",
            "Propiedades de la elipse:\n",
            "-------------------------------\n",
            "Coordenadas del centro: (5.0, 6.0)\n",
            "Longitudes de los semiejes: a = 7.0, b = 2.0\n",
            "Distancia focal: c = 6.71\n",
            "Distancia entre los focos: 13.42\n",
            "Longitud de la cuerda focal: 14.00\n",
            "Excentricidad: 0.96\n",
            "Área de la elipse: 43.98\n"
          ]
        }
      ]
    },
    {
      "cell_type": "markdown",
      "source": [
        "En este ejercicio se importa el módulo math, que proporciona funciones matemáticas adicionales, como la raíz cuadrada (math.sqrt), el valor de π (math.pi), entre otros.\n",
        "\n",
        "Los valores de h, k, a y b se solicitan al usuario utilizando la función input(). Estos valores representan el centro de la elipse (coordenadas h y k) y las longitudes de los semiejes horizontal (a) y vertical (b).\n",
        "\n",
        "Se imprimen los encabezados y se muestran los valores ingresados por el usuario para el centro y las longitudes de los semiejes.\n",
        "\n",
        "La distancia focal (c) se calcula utilizando la fórmula c = sqrt(a^2 - b^2), donde sqrt es la función para calcular la raíz cuadrada. Esta distancia indica la distancia entre el centro y los focos de la elipse.\n",
        "\n",
        "La distancia entre los focos se calcula multiplicando la distancia focal por 2.\n",
        "\n",
        "La longitud de la cuerda focal se calcula multiplicando la longitud del semieje horizontal por 2.\n",
        "\n",
        "La excentricidad (e) se calcula dividiendo la distancia focal (c) entre la longitud del semieje horizontal (a).\n",
        "\n",
        "El área de la elipse se calcula utilizando la fórmula A = π * a * b, donde π se obtiene del módulo math.pi.\n",
        "\n",
        "Se imprimen los resultados de todas las propiedades de la elipse, formateados adecuadamente para mostrar un número limitado de decimales."
      ],
      "metadata": {
        "id": "8jdPN_efpkHk"
      }
    },
    {
      "cell_type": "markdown",
      "source": [
        "#**TRANSFORMACIONES LINEALES**\n",
        "\n",
        "Las transformaciones lineales son funciones que operan sobre espacios vectoriales y cumplen con dos propiedades fundamentales: la preservación de la suma y la preservación de la multiplicación escalar. Estas transformaciones son ampliamente utilizadas en el campo de las matemáticas y tienen aplicaciones en diversas áreas como la geometría, la física, la ingeniería y la informática.\n",
        "\n",
        "Una transformación lineal toma un vector de un espacio vectorial de entrada y lo mapea a un vector en un espacio vectorial de salida. Esto se logra mediante una matriz de transformación, que representa la operación lineal realizada sobre los vectores. La matriz de transformación se construye de tal manera que cumpla con las propiedades de linealidad.\n",
        "\n",
        "TIPOS DE TRANSFORMACIONES LINEALES:\n"
      ],
      "metadata": {
        "id": "dETECui6OYMl"
      }
    },
    {
      "cell_type": "markdown",
      "source": [
        "### **TRANSLACION**\n",
        "```python\n",
        "import numpy as np\n",
        "\n",
        "def traslacion(x, y, tx, ty):\n",
        "    vector = np.array([x, y])\n",
        "    matriz_translacion = np.array([[1, 0, tx],\n",
        "                                   [0, 1, ty],\n",
        "                                   [0, 0, 1]])\n",
        "    resultado = matriz_translacion @ vector\n",
        "    return resultado[0], resultado[1]\n",
        "\n",
        "# Ejemplo de uso\n",
        "x = 2\n",
        "y = 3\n",
        "tx = 1\n",
        "ty = 1\n",
        "resultado = traslacion(x, y, tx, ty)\n",
        "print(resultado)\n",
        "\n",
        "```"
      ],
      "metadata": {
        "id": "wAeO-tWfO5kM"
      }
    },
    {
      "cell_type": "code",
      "source": [
        "import numpy as np\n",
        "import matplotlib.pyplot as plt\n",
        "\n",
        "# Definir los puntos originales\n",
        "x = np.array([2, 4])\n",
        "y = np.array([3, 1])\n",
        "\n",
        "# Valores de traslación\n",
        "tx = 3\n",
        "ty = 2\n",
        "\n",
        "# Aplicar la traslación a los puntos\n",
        "x_trans = x + tx\n",
        "y_trans = y + ty\n",
        "\n",
        "# Crear la figura y los ejes\n",
        "fig, ax = plt.subplots()\n",
        "\n",
        "# Graficar los puntos originales y los puntos trasladados\n",
        "ax.plot(x, y, 'ro', label='Puntos originales')\n",
        "ax.plot(x_trans, y_trans, 'bo', label='Puntos trasladados')\n",
        "\n",
        "# Establecer límites de los ejes\n",
        "ax.set_xlim([0, 10])\n",
        "ax.set_ylim([0, 10])\n",
        "\n",
        "# Etiquetas de los ejes\n",
        "ax.set_xlabel('Eje X')\n",
        "ax.set_ylabel('Eje Y')\n",
        "\n",
        "# Título del gráfico\n",
        "ax.set_title('Traslación de puntos')\n",
        "\n",
        "# Mostrar leyenda y cuadrícula\n",
        "ax.legend()\n",
        "ax.grid(True)\n",
        "\n",
        "# Mostrar el gráfico\n",
        "plt.show()\n"
      ],
      "metadata": {
        "colab": {
          "base_uri": "https://localhost:8080/",
          "height": 472
        },
        "id": "1eYiL9VVPSOK",
        "outputId": "1ab15546-a87e-4a64-e0bb-bc0bb267e6bc"
      },
      "execution_count": null,
      "outputs": [
        {
          "output_type": "display_data",
          "data": {
            "text/plain": [
              "<Figure size 640x480 with 1 Axes>"
            ],
            "image/png": "[encoded data removed]"
          },
          "metadata": {}
        }
      ]
    },
    {
      "cell_type": "markdown",
      "source": [
        "### **ESCALA**\n",
        "```python\n",
        "import numpy as np\n",
        "\n",
        "def escala(x, y, sx, sy):\n",
        "    vector = np.array([x, y])\n",
        "    matriz_escala = np.array([[sx, 0],\n",
        "                              [0, sy]])\n",
        "    resultado = matriz_escala @ vector\n",
        "    return resultado[0], resultado[1]\n",
        "\n",
        "# Ejemplo de uso\n",
        "x = 2\n",
        "y = 3\n",
        "sx = 2\n",
        "sy = 3\n",
        "resultado = escala(x, y, sx, sy)\n",
        "print(resultado)\n",
        "```"
      ],
      "metadata": {
        "id": "9VCFVmixPYwH"
      }
    },
    {
      "cell_type": "code",
      "source": [
        "import numpy as np\n",
        "\n",
        "def escala(x, y, sx, sy):\n",
        "    vector = np.array([x, y])\n",
        "    matriz_escala = np.array([[sx, 0],\n",
        "                              [0, sy]])\n",
        "    resultado = matriz_escala @ vector\n",
        "    return resultado[0], resultado[1]\n",
        "\n",
        "# Ejemplo de uso\n",
        "x = 2\n",
        "y = 3\n",
        "sx = 2\n",
        "sy = 3\n",
        "resultado = escala(x, y, sx, sy)\n",
        "print(resultado)"
      ],
      "metadata": {
        "colab": {
          "base_uri": "https://localhost:8080/"
        },
        "id": "gtvCh4WlPpkm",
        "outputId": "b62c2e37-acdb-46f0-fa44-1f03860bf4fc"
      },
      "execution_count": null,
      "outputs": [
        {
          "output_type": "stream",
          "name": "stdout",
          "text": [
            "(4, 9)\n"
          ]
        }
      ]
    },
    {
      "cell_type": "markdown",
      "source": [
        "### **ROTACION**\n",
        "\n",
        "```python\n",
        "import numpy as np\n",
        "import math\n",
        "\n",
        "def rotacion(x, y, angulo):\n",
        "    vector = np.array([x, y])\n",
        "    matriz_rotacion = np.array([[math.cos(angulo), -math.sin(angulo)],\n",
        "                                [math.sin(angulo), math.cos(angulo)]])\n",
        "    resultado = matriz_rotacion @ vector\n",
        "    return resultado[0], resultado[1]\n",
        "\n",
        "# Ejemplo de uso\n",
        "x = 2\n",
        "y = 3\n",
        "angulo = math.pi/4\n",
        "resultado = rotacion(x, y, angulo)\n",
        "print(resultado)\n",
        "\n",
        "```"
      ],
      "metadata": {
        "id": "8pGzU76CPwuK"
      }
    },
    {
      "cell_type": "code",
      "source": [
        "import numpy as np\n",
        "\n",
        "def escala(x, y, sx, sy):\n",
        "    vector = np.array([x, y])\n",
        "    matriz_escala = np.array([[sx, 0],\n",
        "                              [0, sy]])\n",
        "    resultado = matriz_escala @ vector\n",
        "    return resultado[0], resultado[1]\n",
        "\n",
        "# Ejemplo de uso\n",
        "x = 2\n",
        "y = 3\n",
        "sx = 2\n",
        "sy = 3\n",
        "resultado = escala(x, y, sx, sy)\n",
        "print(resultado)"
      ],
      "metadata": {
        "colab": {
          "base_uri": "https://localhost:8080/"
        },
        "id": "Gpb3fquURlzh",
        "outputId": "a0d76001-aa98-4196-e04e-ec00578a8362"
      },
      "execution_count": null,
      "outputs": [
        {
          "output_type": "stream",
          "name": "stdout",
          "text": [
            "(4, 9)\n"
          ]
        }
      ]
    },
    {
      "cell_type": "markdown",
      "source": [],
      "metadata": {
        "id": "viEsgCeHU9nM"
      }
    },
    {
      "cell_type": "markdown",
      "source": [
        "# **VECTORES PROPIOS**\n",
        "\n",
        "Los vectores propios, también conocidos como autovectores, son un concepto importante en el álgebra lineal y tienen aplicaciones en diversas áreas como la física, la computación y la economía. Los vectores propios están asociados a las transformaciones lineales y representan direcciones especiales a lo largo de las cuales los vectores se estiran o se contraen sin cambiar su dirección.\n",
        "\n",
        "En resumen, los vectores propios tienen las siguientes características:\n",
        "\n",
        "- Definición: Un vector propio de una transformación lineal es un vector no nulo que, cuando se aplica la transformación lineal, solo se estira o se contrae sin cambiar su dirección. Es decir, después de aplicar la transformación, el vector propio es proporcional al vector original.\n",
        "\n",
        "- Valor propio: El valor propio es el factor de escala por el cual el vector propio se estira o se contrae al aplicar la transformación lineal. Es un número que está asociado al vector propio y puede ser positivo, negativo o cero.\n",
        "\n",
        "- Ecuación de valor propio: La ecuación de valor propio es una ecuación algebraica que relaciona una matriz y un vector propio. Se expresa como (A - λI)v = 0, donde A es una matriz, λ es el valor propio y v es el vector propio correspondiente.\n",
        "\n",
        "- Diagonalización: La diagonalización es un proceso que consiste en descomponer una matriz en una forma más simple utilizando sus vectores propios. Si una matriz se puede diagonalizar, significa que se puede expresar como una matriz diagonal mediante una transformación de base. Los elementos diagonales de la matriz diagonalizada corresponden a los valores propios.\n",
        "\n",
        "- Aplicaciones: Los vectores propios tienen diversas aplicaciones en campos como la física cuántica, donde representan los estados estacionarios de un sistema, y en la visión por computadora, donde se utilizan para el reconocimiento de patrones y el análisis de imágenes.\n",
        "\n",
        "```python\n",
        "import numpy as np\n",
        "\n",
        "# Definir la matriz\n",
        "matriz = np.array([[2, -1],\n",
        "                   [4, 3]])\n",
        "\n",
        "# Calcular los vectores propios y los valores propios\n",
        "valores_propios, vectores_propios = np.linalg.eig(matriz)\n",
        "\n",
        "# Imprimir los valores propios y los vectores propios\n",
        "for i in range(len(valores_propios)):\n",
        "    print(\"Valor propio:\", valores_propios[i])\n",
        "    print(\"Vector propio:\", vectores_propios[:, i])\n",
        "    print()\n",
        "```"
      ],
      "metadata": {
        "id": "_nzCNO4WU96W"
      }
    },
    {
      "cell_type": "code",
      "source": [
        "import numpy as np\n",
        "\n",
        "# Definir la matriz\n",
        "matriz = np.array([[2, -1],\n",
        "                   [4, 3]])\n",
        "\n",
        "# Calcular los vectores propios y los valores propios\n",
        "valores_propios, vectores_propios = np.linalg.eig(matriz)\n",
        "\n",
        "# Imprimir los valores propios y los vectores propios\n",
        "for i in range(len(valores_propios)):\n",
        "    print(\"Valor propio:\", valores_propios[i])\n",
        "    print(\"Vector propio:\", vectores_propios[:, i])\n",
        "    print()\n"
      ],
      "metadata": {
        "colab": {
          "base_uri": "https://localhost:8080/"
        },
        "id": "rMR-xxkeVZLj",
        "outputId": "dbfeb26c-40d3-4885-bb36-5d9563e9be64"
      },
      "execution_count": null,
      "outputs": [
        {
          "output_type": "stream",
          "name": "stdout",
          "text": [
            "Valor propio: (2.5+1.9364916731037083j)\n",
            "Vector propio: [-0.1118034 +0.4330127j  0.89442719+0.j       ]\n",
            "\n",
            "Valor propio: (2.5-1.9364916731037083j)\n",
            "Vector propio: [-0.1118034 -0.4330127j  0.89442719-0.j       ]\n",
            "\n"
          ]
        }
      ]
    }
  ]
}